{
 "cells": [
  {
   "cell_type": "markdown",
   "id": "3b9bc364",
   "metadata": {},
   "source": [
    "# Linear and quadratic programming with `cvxpy`\n",
    "\n",
    "In this notebook, we will use the `cvxpy` Python library to find the solution for a linear program. Since linear programs are always convex optimization problems, we can use `cvxpy` for this purpose."
   ]
  },
  {
   "cell_type": "code",
   "execution_count": 1,
   "id": "0da5f9c3",
   "metadata": {},
   "outputs": [
    {
     "name": "stdout",
     "output_type": "stream",
     "text": [
      "Collecting cvxpy\n",
      "  Using cached cvxpy-1.3.1-cp310-cp310-manylinux_2_17_x86_64.manylinux2014_x86_64.whl (4.0 MB)\n",
      "Requirement already satisfied: numpy>=1.15 in /opt/conda/lib/python3.10/site-packages (from cvxpy) (1.23.5)\n",
      "Collecting ecos>=2\n",
      "  Using cached ecos-2.0.12-cp310-cp310-manylinux_2_17_x86_64.manylinux2014_x86_64.whl (220 kB)\n",
      "Requirement already satisfied: scipy>=1.1.0 in /opt/conda/lib/python3.10/site-packages (from cvxpy) (1.9.3)\n",
      "Collecting setuptools>65.5.1\n",
      "  Using cached setuptools-67.6.1-py3-none-any.whl (1.1 MB)\n",
      "Collecting osqp>=0.4.1\n",
      "  Using cached osqp-0.6.2.post8-cp310-cp310-manylinux_2_5_x86_64.manylinux1_x86_64.manylinux_2_17_x86_64.manylinux2014_x86_64.whl (298 kB)\n",
      "Collecting scs>=1.1.6\n",
      "  Downloading scs-3.2.3-cp310-cp310-manylinux_2_17_x86_64.manylinux2014_x86_64.whl (10.7 MB)\n",
      "\u001b[2K     \u001b[90m━━━━━━━━━━━━━━━━━━━━━━━━━━━━━━━━━━━━━━━━\u001b[0m \u001b[32m10.7/10.7 MB\u001b[0m \u001b[31m37.7 MB/s\u001b[0m eta \u001b[36m0:00:00\u001b[0m00:01\u001b[0m0:01\u001b[0m\n",
      "\u001b[?25hCollecting qdldl\n",
      "  Downloading qdldl-0.1.7-cp310-cp310-manylinux_2_17_x86_64.manylinux2014_x86_64.whl (1.0 MB)\n",
      "\u001b[2K     \u001b[90m━━━━━━━━━━━━━━━━━━━━━━━━━━━━━━━━━━━━━━━━\u001b[0m \u001b[32m1.0/1.0 MB\u001b[0m \u001b[31m23.8 MB/s\u001b[0m eta \u001b[36m0:00:00\u001b[0m:00:01\u001b[0m\n",
      "\u001b[?25hInstalling collected packages: setuptools, scs, qdldl, ecos, osqp, cvxpy\n",
      "  Attempting uninstall: setuptools\n",
      "    Found existing installation: setuptools 65.5.1\n",
      "    Uninstalling setuptools-65.5.1:\n",
      "      Successfully uninstalled setuptools-65.5.1\n",
      "Successfully installed cvxpy-1.3.1 ecos-2.0.12 osqp-0.6.2.post8 qdldl-0.1.7 scs-3.2.3 setuptools-67.6.1\n"
     ]
    }
   ],
   "source": [
    "!pip install cvxpy"
   ]
  },
  {
   "cell_type": "code",
   "execution_count": 2,
   "id": "95be7747",
   "metadata": {},
   "outputs": [],
   "source": [
    "import cvxpy as cp\n",
    "import numpy as np"
   ]
  },
  {
   "cell_type": "markdown",
   "id": "cf95ac64",
   "metadata": {},
   "source": [
    "## Example \n",
    "\n",
    "Let's consider the linear program \n",
    "\n",
    "$$ \\min x_1 + x_2 $$\n",
    "\n",
    "subject to\n",
    "\n",
    "$$\n",
    "x_1 \\geq 1,\\ x_1 + 2x_2 \\geq 2\n",
    "$$\n",
    "\n",
    "Let's rewrite this using matrices and vectors as\n",
    "\n",
    "$$ \\min \\mathbf{c}^\\mathsf{T} \\mathbf{x} $$\n",
    "\n",
    "subject to\n",
    "\n",
    "$$\n",
    "A \\mathbf{x} \\leq \\mathbf{b}\n",
    "$$\n",
    "\n",
    "where \n",
    "\n",
    "$$\n",
    "\\mathbf{c} = \\begin{bmatrix} 1 \\\\ 1 \\end{bmatrix},\\ A = \\begin{bmatrix} -1 & 0 \\\\ -1 & -2 \\end{bmatrix},\\ \\mathbf{b} = \\begin{bmatrix} -1 \\\\ -2 \\end{bmatrix}\n",
    "$$\n",
    "\n",
    "We first create our matrices and vectors using `numpy`."
   ]
  },
  {
   "cell_type": "code",
   "execution_count": 3,
   "id": "2b25c0ba",
   "metadata": {},
   "outputs": [],
   "source": [
    "A = np.array([\n",
    "    [-1,0], [-1,-2]\n",
    "])\n",
    "b = np.array([-1,-2])\n",
    "c = np.array([1,1])"
   ]
  },
  {
   "cell_type": "markdown",
   "id": "3d8c6f09",
   "metadata": {},
   "source": [
    "Now we create our variable just as in the previous notebook."
   ]
  },
  {
   "cell_type": "code",
   "execution_count": 4,
   "id": "6084a6ca",
   "metadata": {},
   "outputs": [],
   "source": [
    "x = cp.Variable(2)"
   ]
  },
  {
   "cell_type": "markdown",
   "id": "d249b187",
   "metadata": {},
   "source": [
    "We define our constraints using matrix-vector operations with the symbol `@`. We only have one constraint since we bundled it all together using vectors."
   ]
  },
  {
   "cell_type": "code",
   "execution_count": 5,
   "id": "16e5e781",
   "metadata": {},
   "outputs": [],
   "source": [
    "constraints = [A @ x <= b]"
   ]
  },
  {
   "cell_type": "markdown",
   "id": "8d629f93",
   "metadata": {},
   "source": [
    "We are ready to define our problem and solve it."
   ]
  },
  {
   "cell_type": "code",
   "execution_count": 6,
   "id": "dc253e34",
   "metadata": {},
   "outputs": [],
   "source": [
    "prob = cp.Problem(cp.Minimize(c.T @ x), constraints)"
   ]
  },
  {
   "cell_type": "code",
   "execution_count": 7,
   "id": "b0cf14ce",
   "metadata": {},
   "outputs": [
    {
     "data": {
      "text/plain": [
       "1.500000000001771"
      ]
     },
     "execution_count": 7,
     "metadata": {},
     "output_type": "execute_result"
    }
   ],
   "source": [
    "prob.solve()"
   ]
  },
  {
   "cell_type": "markdown",
   "id": "bf41514f",
   "metadata": {},
   "source": [
    "The value printed out is the primal optimal value. We can also ask for the optimal solution (i.e. the value of $\\mathbf{x}$ that realizes this optimal value)."
   ]
  },
  {
   "cell_type": "code",
   "execution_count": 8,
   "id": "eb4e7822",
   "metadata": {},
   "outputs": [
    {
     "data": {
      "text/plain": [
       "array([1. , 0.5])"
      ]
     },
     "execution_count": 8,
     "metadata": {},
     "output_type": "execute_result"
    }
   ],
   "source": [
    "x.value"
   ]
  },
  {
   "cell_type": "markdown",
   "id": "64f617f3",
   "metadata": {},
   "source": [
    "We have two constraints, so therefore we have two dual variables, and we can ask for the optimal solution to the dual problem as well."
   ]
  },
  {
   "cell_type": "code",
   "execution_count": 9,
   "id": "f6893f46",
   "metadata": {},
   "outputs": [
    {
     "data": {
      "text/plain": [
       "array([0.5, 0.5])"
      ]
     },
     "execution_count": 9,
     "metadata": {},
     "output_type": "execute_result"
    }
   ],
   "source": [
    "prob.constraints[0].dual_value"
   ]
  },
  {
   "cell_type": "markdown",
   "id": "9ab1d8ad",
   "metadata": {},
   "source": [
    "Quadratic programs can be coded up similarly using matrices and vectors."
   ]
  },
  {
   "cell_type": "markdown",
   "id": "4a655422",
   "metadata": {},
   "source": [
    "## Exercise 1\n",
    "\n",
    "Use `cvxpy` to solve Question 7.6 in Diesenroth. Show the optimal value and the optimal solution for $\\mathbf{x}$. "
   ]
  },
  {
   "cell_type": "code",
   "execution_count": 13,
   "id": "47c1138b",
   "metadata": {},
   "outputs": [],
   "source": [
    "A2 = np.array([\n",
    "    [2,2], [2,-4], [-2, 1], [0,-1], [0, 1]\n",
    "])\n",
    "b2 = np.array([33, 8, 5, -1, 8])\n",
    "c2 = np.array([5,3])"
   ]
  },
  {
   "cell_type": "code",
   "execution_count": 12,
   "id": "fcc60a57-31dd-4123-8ba0-b248c0fabfa9",
   "metadata": {},
   "outputs": [],
   "source": [
    "x2 = cp.Variable(2)"
   ]
  },
  {
   "cell_type": "code",
   "execution_count": 15,
   "id": "446fe618-1604-48da-bbd9-9dcb698e04b8",
   "metadata": {},
   "outputs": [],
   "source": [
    "constraints2 = [A2 @ x2 <= b2]"
   ]
  },
  {
   "cell_type": "code",
   "execution_count": 21,
   "id": "9fa60b94-50cf-4e73-9de4-ca67393ec4c5",
   "metadata": {},
   "outputs": [
    {
     "data": {
      "text/plain": [
       "-6.999999989642528"
      ]
     },
     "execution_count": 21,
     "metadata": {},
     "output_type": "execute_result"
    }
   ],
   "source": [
    "prob2 = cp.Problem(cp.Minimize(c2.T @ x2), constraints2)\n",
    "prob2.solve()"
   ]
  },
  {
   "cell_type": "code",
   "execution_count": 22,
   "id": "3846e9fd-e51e-4a15-ac1a-f9fc065a5818",
   "metadata": {},
   "outputs": [
    {
     "data": {
      "text/plain": [
       "array([-2.,  1.])"
      ]
     },
     "execution_count": 22,
     "metadata": {},
     "output_type": "execute_result"
    }
   ],
   "source": [
    "x2.value"
   ]
  },
  {
   "cell_type": "code",
   "execution_count": 23,
   "id": "d6b9389d-7853-460e-8be4-072b659a23e3",
   "metadata": {},
   "outputs": [
    {
     "data": {
      "text/plain": [
       "array([3.67587829e-10, 4.22425579e-10, 2.50000000e+00, 5.50000000e+00,\n",
       "       1.40506072e-10])"
      ]
     },
     "execution_count": 23,
     "metadata": {},
     "output_type": "execute_result"
    }
   ],
   "source": [
    "prob2.constraints[0].dual_value"
   ]
  },
  {
   "cell_type": "markdown",
   "id": "390cda93",
   "metadata": {},
   "source": [
    "## Exercise 2\n",
    "\n",
    "Use `cvxpy` to solve Question 7.7 in Diesenroth. Show the optimal value and the optimal solution for $\\mathbf{x}$. "
   ]
  },
  {
   "cell_type": "code",
   "execution_count": 24,
   "id": "a7f8f0f4",
   "metadata": {},
   "outputs": [],
   "source": [
    "A3 = np.array([\n",
    "    [1,0], [-1,0], [0, 1], [0,-1]\n",
    "])\n",
    "b3 = np.array([1, 1, 1, 1])\n",
    "c3 = np.array([5,3])\n",
    "Q = np.array([[2,1], [1,4]])"
   ]
  },
  {
   "cell_type": "code",
   "execution_count": 25,
   "id": "50033692-11eb-45ea-80e8-4e659c9a58f3",
   "metadata": {},
   "outputs": [],
   "source": [
    "x3 = cp.Variable(2)"
   ]
  },
  {
   "cell_type": "code",
   "execution_count": 26,
   "id": "00da6b61-260e-4393-8799-1db274577885",
   "metadata": {},
   "outputs": [],
   "source": [
    "constraints3 = [A3 @ x3 <= b3]"
   ]
  },
  {
   "cell_type": "code",
   "execution_count": 27,
   "id": "f4496526-f115-4d2b-88fc-59eb4b3f209d",
   "metadata": {},
   "outputs": [
    {
     "data": {
      "text/plain": [
       "-7.999999986442335"
      ]
     },
     "execution_count": 27,
     "metadata": {},
     "output_type": "execute_result"
    }
   ],
   "source": [
    "prob3 = cp.Problem(cp.Minimize(c3.T @ x3), constraints3)\n",
    "prob3.solve()"
   ]
  },
  {
   "cell_type": "code",
   "execution_count": 28,
   "id": "28b71231-cfdf-4765-90b2-e16eb7abf51f",
   "metadata": {},
   "outputs": [
    {
     "data": {
      "text/plain": [
       "array([-1., -1.])"
      ]
     },
     "execution_count": 28,
     "metadata": {},
     "output_type": "execute_result"
    }
   ],
   "source": [
    "x3.value"
   ]
  },
  {
   "cell_type": "code",
   "execution_count": 29,
   "id": "2a387c0f-e4ae-4393-af42-561e8fd099e9",
   "metadata": {},
   "outputs": [
    {
     "data": {
      "text/plain": [
       "array([6.79743949e-09, 5.00000001e+00, 2.48278298e-09, 3.00000000e+00])"
      ]
     },
     "execution_count": 29,
     "metadata": {},
     "output_type": "execute_result"
    }
   ],
   "source": [
    "prob3.constraints[0].dual_value"
   ]
  },
  {
   "cell_type": "code",
   "execution_count": null,
   "id": "cb835c58-3bb2-4b18-a332-92327b87713c",
   "metadata": {},
   "outputs": [],
   "source": []
  }
 ],
 "metadata": {
  "kernelspec": {
   "display_name": "Python 3 (ipykernel)",
   "language": "python",
   "name": "python3"
  },
  "language_info": {
   "codemirror_mode": {
    "name": "ipython",
    "version": 3
   },
   "file_extension": ".py",
   "mimetype": "text/x-python",
   "name": "python",
   "nbconvert_exporter": "python",
   "pygments_lexer": "ipython3",
   "version": "3.10.6"
  }
 },
 "nbformat": 4,
 "nbformat_minor": 5
}
