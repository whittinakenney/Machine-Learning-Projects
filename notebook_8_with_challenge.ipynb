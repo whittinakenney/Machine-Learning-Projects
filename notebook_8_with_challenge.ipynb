{
 "cells": [
  {
   "cell_type": "markdown",
   "id": "f8bc6e5e",
   "metadata": {},
   "source": [
    "# Classifying MNIST with a convolutional neural network\n",
    "\n",
    "In this notebook, we will use `keras` to build a simple convolutional neural network (CNN), using MNIST digit classification as our running example."
   ]
  },
  {
   "cell_type": "code",
   "execution_count": 1,
   "id": "9adf1df8",
   "metadata": {},
   "outputs": [],
   "source": [
    "import numpy as np\n",
    "import random\n",
    "from tqdm import tqdm\n",
    "import matplotlib.pyplot as plt"
   ]
  },
  {
   "cell_type": "markdown",
   "id": "35f2aa05",
   "metadata": {},
   "source": [
    "## Loading the data\n",
    "\n",
    "Let's load our MNIST data, just like we did in a previous notebook."
   ]
  },
  {
   "cell_type": "code",
   "execution_count": 2,
   "id": "4b33fdd9",
   "metadata": {},
   "outputs": [],
   "source": [
    "import mnist_loader\n",
    "training_data, validation_data, test_data = mnist_loader.load_data_wrapper()\n",
    "training_data = list(training_data)\n",
    "test_data = list(test_data)"
   ]
  },
  {
   "cell_type": "code",
   "execution_count": 26,
   "id": "b2867134",
   "metadata": {},
   "outputs": [],
   "source": [
    "training_data_small = list(training_data)[:5000]\n",
    "test_data_small = list(test_data)[:1000]"
   ]
  },
  {
   "cell_type": "markdown",
   "id": "0c250aa5",
   "metadata": {},
   "source": [
    "## Building our CNN\n",
    "\n",
    "We will build a simple CNN consisting of \n",
    "- a convolutional layer with a 5x5 receptive field and 10 feature maps\n",
    "- a max pooling layer applied to 2x2 regions across each of the feature maps\n",
    "- an output layer of 10 output sigmoid neurons\n",
    "\n",
    "Refer to Chapter 6 of [Nielsen](http://neuralnetworksanddeeplearning.com/chap6.html#introducing_convolutional_networks) for a picture and details of this kind of CNN."
   ]
  },
  {
   "cell_type": "code",
   "execution_count": null,
   "id": "da18f310",
   "metadata": {},
   "outputs": [],
   "source": []
  },
  {
   "cell_type": "code",
   "execution_count": 27,
   "id": "25ee6231",
   "metadata": {},
   "outputs": [],
   "source": [
    "import tensorflow as tf\n",
    "from tensorflow import keras\n",
    "from tensorflow.keras import layers"
   ]
  },
  {
   "cell_type": "markdown",
   "id": "7e3c9f6c",
   "metadata": {},
   "source": [
    "We begin by creating a `Sequential` model. "
   ]
  },
  {
   "cell_type": "code",
   "execution_count": 28,
   "id": "717bd56d",
   "metadata": {},
   "outputs": [],
   "source": [
    "model = keras.Sequential()"
   ]
  },
  {
   "cell_type": "markdown",
   "id": "d4dff166",
   "metadata": {},
   "source": [
    "Let's add our convolutional layer now. We use the `Conv2D` argument and specify\n",
    "\n",
    "- `filters`: the number of feature maps,\n",
    "- `kernel_size`: the size of the receptive window (and therefore the size of the weights matrix),\n",
    "- `input_shape`: the shape of the input to expect. \n",
    "\n",
    "For technical reasons, while the input will be a $28\\times 28$ array, we really want to think of it and code it as a $28 \\times 28 \\times 1$ array. This kind of convention is helpful for example when working color images, in which case the input would be a $28 \\times 28 \\times 3$ array."
   ]
  },
  {
   "cell_type": "code",
   "execution_count": 29,
   "id": "c7dc1a83",
   "metadata": {},
   "outputs": [],
   "source": [
    "model.add(keras.Input(shape=(28,28,1)))\n",
    "model.add(layers.Conv2D(filters=10, kernel_size=(5,5), activation='sigmoid', input_shape=(28,28,1)))"
   ]
  },
  {
   "cell_type": "markdown",
   "id": "4c633719",
   "metadata": {},
   "source": [
    "Let's add our max pooling layer now, specifying the size of the region to be pooled for each feature map."
   ]
  },
  {
   "cell_type": "code",
   "execution_count": 30,
   "id": "34f77e1a",
   "metadata": {},
   "outputs": [],
   "source": [
    "model.add(layers.MaxPooling2D((2,2)))"
   ]
  },
  {
   "cell_type": "markdown",
   "id": "72828e76",
   "metadata": {},
   "source": [
    "Let's look at our model summary so far."
   ]
  },
  {
   "cell_type": "code",
   "execution_count": 31,
   "id": "d5931312",
   "metadata": {},
   "outputs": [
    {
     "name": "stdout",
     "output_type": "stream",
     "text": [
      "Model: \"sequential_2\"\n",
      "_________________________________________________________________\n",
      "Layer (type)                 Output Shape              Param #   \n",
      "=================================================================\n",
      "conv2d_4 (Conv2D)            (None, 24, 24, 10)        260       \n",
      "_________________________________________________________________\n",
      "max_pooling2d_4 (MaxPooling2 (None, 12, 12, 10)        0         \n",
      "=================================================================\n",
      "Total params: 260\n",
      "Trainable params: 260\n",
      "Non-trainable params: 0\n",
      "_________________________________________________________________\n"
     ]
    }
   ],
   "source": [
    "model.summary()"
   ]
  },
  {
   "cell_type": "markdown",
   "id": "c41d3b66",
   "metadata": {},
   "source": [
    "We see that we have 10 feature maps, each into a $24\\times 24$ array of neurons, and then a pooling into three $12 \\times 12$ arrays of neurons. Each convolutional layer has $5\\cdot 5 + 1 = 26$ parameters for the kernel and bias, so we get a total of $10\\cdot 26 = 260$ parameters.\n",
    "\n",
    "We now add one dense layer at the end. In order to have our dense layer take inputs from all neurons, we need to flatten our activations back into a 1D array. We can do this with a `Flatten()` layer."
   ]
  },
  {
   "cell_type": "code",
   "execution_count": 32,
   "id": "58842a80",
   "metadata": {},
   "outputs": [],
   "source": [
    "model.add(layers.Flatten())\n",
    "model.add(layers.Dense(10, activation='sigmoid'))"
   ]
  },
  {
   "cell_type": "markdown",
   "id": "c7d20828",
   "metadata": {},
   "source": [
    "Let's look at our final model summary, and make sure it all makes sense."
   ]
  },
  {
   "cell_type": "code",
   "execution_count": 33,
   "id": "4c257d9c",
   "metadata": {},
   "outputs": [
    {
     "name": "stdout",
     "output_type": "stream",
     "text": [
      "Model: \"sequential_2\"\n",
      "_________________________________________________________________\n",
      "Layer (type)                 Output Shape              Param #   \n",
      "=================================================================\n",
      "conv2d_4 (Conv2D)            (None, 24, 24, 10)        260       \n",
      "_________________________________________________________________\n",
      "max_pooling2d_4 (MaxPooling2 (None, 12, 12, 10)        0         \n",
      "_________________________________________________________________\n",
      "flatten_2 (Flatten)          (None, 1440)              0         \n",
      "_________________________________________________________________\n",
      "dense_2 (Dense)              (None, 10)                14410     \n",
      "=================================================================\n",
      "Total params: 14,670\n",
      "Trainable params: 14,670\n",
      "Non-trainable params: 0\n",
      "_________________________________________________________________\n"
     ]
    }
   ],
   "source": [
    "model.summary()"
   ]
  },
  {
   "cell_type": "markdown",
   "id": "88493918",
   "metadata": {},
   "source": [
    "## Preparing the training data\n",
    "\n",
    "It's time to train our model. First let's make sure our training inputs and labels are in the right format. Recall that each entry in `training_data` is a pair consisting of a vector and a one-hot encoding of the true label. Let's break these pairs up into training inputs and training labels."
   ]
  },
  {
   "cell_type": "code",
   "execution_count": 34,
   "id": "32f37f05",
   "metadata": {},
   "outputs": [],
   "source": [
    "training_inputs_small = [x[0] for x in training_data_small]\n",
    "training_labels_small = [x[1] for x in training_data_small]"
   ]
  },
  {
   "cell_type": "markdown",
   "id": "e36cd146",
   "metadata": {},
   "source": [
    "If we look at our first training input we notice an issue, namely that the input is encoded as a vector not an array. "
   ]
  },
  {
   "cell_type": "code",
   "execution_count": 35,
   "id": "e651e96b",
   "metadata": {},
   "outputs": [
    {
     "data": {
      "text/plain": [
       "(784, 1)"
      ]
     },
     "execution_count": 35,
     "metadata": {},
     "output_type": "execute_result"
    }
   ],
   "source": [
    "training_inputs_small[0].shape"
   ]
  },
  {
   "cell_type": "markdown",
   "id": "97a3f4ec",
   "metadata": {},
   "source": [
    "We can fix this by reshaping each of the training inputs into an array again. Recall that we need each input to be a $28 \\times 28 \\times 1$ array (see above). We'll convert all the training inputs into a `numpy` array at the end.\n",
    "\n",
    "**Side note:** it is extremely important that you are comfortable with the basic list comprehension used in the next line of code, which resizes each thing in our list. If you are not sure why this line of code works, please come ask me as it's a simple but crucial way to preprocess data."
   ]
  },
  {
   "cell_type": "code",
   "execution_count": 36,
   "id": "a2fdc172",
   "metadata": {},
   "outputs": [],
   "source": [
    "training_inputs_28x28_small = np.array([x.reshape((28,28,1)) for x in training_inputs_small])"
   ]
  },
  {
   "cell_type": "markdown",
   "id": "b8bd1f56",
   "metadata": {},
   "source": [
    "Let's convert our training labels to a `numpy` array while we're at it."
   ]
  },
  {
   "cell_type": "code",
   "execution_count": 37,
   "id": "66598389",
   "metadata": {},
   "outputs": [],
   "source": [
    "training_labels_small = np.array(training_labels_small)"
   ]
  },
  {
   "cell_type": "markdown",
   "id": "d8dddda0",
   "metadata": {},
   "source": [
    "Now let's handle the test data. Recall that the test data is also a list of pairs consisting of vectors and then labels which are _not_ in one-hot encoding (i.e. we have 7 and not $[0,0,0,0,0,0,0,1,0,0]$). So we need to fix both of these."
   ]
  },
  {
   "cell_type": "code",
   "execution_count": 38,
   "id": "7eeb78e1",
   "metadata": {},
   "outputs": [],
   "source": [
    "test_inputs_28x28_small = np.array([x[0].reshape((28,28,1)) for x in test_data_small])\n",
    "test_labels_small = np.array(tf.one_hot([x[1] for x in test_data_small], depth=10))"
   ]
  },
  {
   "cell_type": "markdown",
   "id": "d778c42b",
   "metadata": {},
   "source": [
    "Let's check the shapes we have before compiling our model."
   ]
  },
  {
   "cell_type": "code",
   "execution_count": 39,
   "id": "3e60643d",
   "metadata": {},
   "outputs": [
    {
     "data": {
      "text/plain": [
       "((5000, 28, 28, 1), (5000, 10, 1))"
      ]
     },
     "execution_count": 39,
     "metadata": {},
     "output_type": "execute_result"
    }
   ],
   "source": [
    "training_inputs_28x28_small.shape, training_labels_small.shape"
   ]
  },
  {
   "cell_type": "code",
   "execution_count": 40,
   "id": "3c653489",
   "metadata": {},
   "outputs": [
    {
     "data": {
      "text/plain": [
       "((1000, 28, 28, 1), (1000, 10))"
      ]
     },
     "execution_count": 40,
     "metadata": {},
     "output_type": "execute_result"
    }
   ],
   "source": [
    "test_inputs_28x28_small.shape, test_labels_small.shape"
   ]
  },
  {
   "cell_type": "markdown",
   "id": "d63e3212",
   "metadata": {},
   "source": [
    "You may notice that the shape of `training_labels` is (5000,10,1) but the shape of `test_labels` is just (1000,10). This won't matter in the end, but if you're worried about it you can always change one of them so they match."
   ]
  },
  {
   "cell_type": "markdown",
   "id": "805f4d4f",
   "metadata": {},
   "source": [
    "## Training the network"
   ]
  },
  {
   "cell_type": "markdown",
   "id": "7c9335ff",
   "metadata": {},
   "source": [
    "Time to compile our model and train it for 15 epochs. We'll use cross-entropy as our loss function."
   ]
  },
  {
   "cell_type": "code",
   "execution_count": 41,
   "id": "add4048f",
   "metadata": {},
   "outputs": [],
   "source": [
    "model.compile(\n",
    "    optimizer=keras.optimizers.SGD(),  # Optimizer\n",
    "    loss=keras.losses.CategoricalCrossentropy(), # Cost or loss function\n",
    "    metrics=[keras.metrics.CategoricalAccuracy()],\n",
    ")"
   ]
  },
  {
   "cell_type": "code",
   "execution_count": 42,
   "id": "cd1c1140",
   "metadata": {
    "scrolled": true
   },
   "outputs": [
    {
     "name": "stdout",
     "output_type": "stream",
     "text": [
      "Epoch 1/15\n",
      "500/500 [==============================] - 1s 1ms/step - loss: 2.1644 - categorical_accuracy: 0.2198 - val_loss: 1.7437 - val_categorical_accuracy: 0.5130\n",
      "Epoch 2/15\n",
      "500/500 [==============================] - 1s 1ms/step - loss: 1.2646 - categorical_accuracy: 0.6722 - val_loss: 0.9680 - val_categorical_accuracy: 0.7440\n",
      "Epoch 3/15\n",
      "500/500 [==============================] - 1s 1ms/step - loss: 0.7437 - categorical_accuracy: 0.8160 - val_loss: 0.7263 - val_categorical_accuracy: 0.7910\n",
      "Epoch 4/15\n",
      "500/500 [==============================] - 1s 1ms/step - loss: 0.5709 - categorical_accuracy: 0.8512 - val_loss: 0.5792 - val_categorical_accuracy: 0.8430\n",
      "Epoch 5/15\n",
      "500/500 [==============================] - 1s 1ms/step - loss: 0.4860 - categorical_accuracy: 0.8714 - val_loss: 0.5568 - val_categorical_accuracy: 0.8170\n",
      "Epoch 6/15\n",
      "500/500 [==============================] - 1s 1ms/step - loss: 0.4407 - categorical_accuracy: 0.8776 - val_loss: 0.5229 - val_categorical_accuracy: 0.8380\n",
      "Epoch 7/15\n",
      "500/500 [==============================] - 1s 1ms/step - loss: 0.4077 - categorical_accuracy: 0.8872 - val_loss: 0.4583 - val_categorical_accuracy: 0.8550\n",
      "Epoch 8/15\n",
      "500/500 [==============================] - 1s 1ms/step - loss: 0.3853 - categorical_accuracy: 0.8936 - val_loss: 0.4347 - val_categorical_accuracy: 0.8670\n",
      "Epoch 9/15\n",
      "500/500 [==============================] - 1s 1ms/step - loss: 0.3665 - categorical_accuracy: 0.8954 - val_loss: 0.4198 - val_categorical_accuracy: 0.8680\n",
      "Epoch 10/15\n",
      "500/500 [==============================] - 1s 1ms/step - loss: 0.3531 - categorical_accuracy: 0.8998 - val_loss: 0.4832 - val_categorical_accuracy: 0.8440\n",
      "Epoch 11/15\n",
      "500/500 [==============================] - 1s 1ms/step - loss: 0.3421 - categorical_accuracy: 0.9046 - val_loss: 0.3986 - val_categorical_accuracy: 0.8710\n",
      "Epoch 12/15\n",
      "500/500 [==============================] - 1s 1ms/step - loss: 0.3310 - categorical_accuracy: 0.9028 - val_loss: 0.3912 - val_categorical_accuracy: 0.8720\n",
      "Epoch 13/15\n",
      "500/500 [==============================] - 1s 1ms/step - loss: 0.3242 - categorical_accuracy: 0.9064 - val_loss: 0.3892 - val_categorical_accuracy: 0.8810\n",
      "Epoch 14/15\n",
      "500/500 [==============================] - 1s 1ms/step - loss: 0.3150 - categorical_accuracy: 0.9098 - val_loss: 0.3753 - val_categorical_accuracy: 0.8770\n",
      "Epoch 15/15\n",
      "500/500 [==============================] - 1s 1ms/step - loss: 0.3079 - categorical_accuracy: 0.9106 - val_loss: 0.3710 - val_categorical_accuracy: 0.8810\n"
     ]
    }
   ],
   "source": [
    "history = model.fit(\n",
    "    training_inputs_28x28_small, training_labels_small,\n",
    "    epochs=15, \n",
    "    batch_size=10,\n",
    "    validation_data=(test_inputs_28x28_small, test_labels_small)\n",
    ")"
   ]
  },
  {
   "cell_type": "markdown",
   "id": "6059841e",
   "metadata": {},
   "source": [
    "As usual we can plot the loss and the accuracy for our training and validation sets."
   ]
  },
  {
   "cell_type": "code",
   "execution_count": 43,
   "id": "85271acd",
   "metadata": {},
   "outputs": [
    {
     "data": {
      "text/plain": [
       "[<matplotlib.lines.Line2D at 0x24b51393240>]"
      ]
     },
     "execution_count": 43,
     "metadata": {},
     "output_type": "execute_result"
    },
    {
     "data": {
      "image/png": "[encoded data removed]",
      "text/plain": [
       "<Figure size 432x288 with 1 Axes>"
      ]
     },
     "metadata": {
      "needs_background": "light"
     },
     "output_type": "display_data"
    }
   ],
   "source": [
    "plt.plot(\n",
    "    history.history['loss'],\n",
    "    label='train'\n",
    ")\n",
    "plt.plot(\n",
    "    history.history['val_loss'],\n",
    "    label='test'\n",
    ")"
   ]
  },
  {
   "cell_type": "code",
   "execution_count": 44,
   "id": "b755e1d0",
   "metadata": {},
   "outputs": [
    {
     "data": {
      "text/plain": [
       "<matplotlib.legend.Legend at 0x24b4c033780>"
      ]
     },
     "execution_count": 44,
     "metadata": {},
     "output_type": "execute_result"
    },
    {
     "data": {
      "image/png": "[encoded data removed]",
      "text/plain": [
       "<Figure size 432x288 with 1 Axes>"
      ]
     },
     "metadata": {
      "needs_background": "light"
     },
     "output_type": "display_data"
    }
   ],
   "source": [
    "plt.plot(\n",
    "    history.history['categorical_accuracy'],\n",
    "    label='train'\n",
    ")\n",
    "plt.plot(\n",
    "    history.history['val_categorical_accuracy'],\n",
    "    label='test'\n",
    ")\n",
    "plt.legend()"
   ]
  },
  {
   "cell_type": "markdown",
   "id": "74dc335f",
   "metadata": {},
   "source": [
    "## Looking at the kernels\n",
    "\n",
    "Another interesting thing to do is to look at the kernels that were learned during the training stage. For example, let's look at the kernel for the first feature map. We use `model.weights` to see all the parameters"
   ]
  },
  {
   "cell_type": "code",
   "execution_count": 45,
   "id": "20c655c6",
   "metadata": {},
   "outputs": [],
   "source": [
    "#model.weights"
   ]
  },
  {
   "cell_type": "markdown",
   "id": "9d8def5c",
   "metadata": {},
   "source": [
    "The kernels are stored as a $5 \\times 5 \\times 1 \\times 10$ array. To pull out the first $5\\times 5$ block we need to ask for all entries of the form $(i,j,0,0)$. In `numpy`, you can use `:` to include all entries along a specific axis. Thus, this is how we access what we need: "
   ]
  },
  {
   "cell_type": "code",
   "execution_count": 46,
   "id": "251b8a7c",
   "metadata": {},
   "outputs": [],
   "source": [
    "all_kernels = model.weights[0]"
   ]
  },
  {
   "cell_type": "code",
   "execution_count": 47,
   "id": "a8426d8a",
   "metadata": {},
   "outputs": [],
   "source": [
    "kernel0 = all_kernels.numpy()[:,:,0,0]"
   ]
  },
  {
   "cell_type": "code",
   "execution_count": 48,
   "id": "09f15138",
   "metadata": {},
   "outputs": [
    {
     "data": {
      "text/plain": [
       "array([[-0.23060484, -0.19532263, -0.13874517, -0.13414195, -0.1340017 ],\n",
       "       [ 0.14422935,  0.24755418,  0.34474537,  0.29112098,  0.1324787 ],\n",
       "       [ 0.3134174 ,  0.56658584,  0.6314979 ,  0.45871145,  0.40026176],\n",
       "       [ 0.40605745,  0.57242924,  0.63405704,  0.52885246,  0.4749453 ],\n",
       "       [ 0.26376942,  0.16083257,  0.18427607,  0.2643053 ,  0.23517132]],\n",
       "      dtype=float32)"
      ]
     },
     "execution_count": 48,
     "metadata": {},
     "output_type": "execute_result"
    }
   ],
   "source": [
    "kernel0"
   ]
  },
  {
   "cell_type": "markdown",
   "id": "c5c974a3",
   "metadata": {},
   "source": [
    "Now that we have the kernel, we can plot it as a grayscale image."
   ]
  },
  {
   "cell_type": "code",
   "execution_count": 49,
   "id": "1542d5e3",
   "metadata": {},
   "outputs": [
    {
     "data": {
      "text/plain": [
       "<matplotlib.colorbar.Colorbar at 0x24b4c0e67b8>"
      ]
     },
     "execution_count": 49,
     "metadata": {},
     "output_type": "execute_result"
    },
    {
     "data": {
      "image/png": "[encoded data removed]",
      "text/plain": [
       "<Figure size 432x288 with 2 Axes>"
      ]
     },
     "metadata": {
      "needs_background": "light"
     },
     "output_type": "display_data"
    }
   ],
   "source": [
    "plt.imshow(kernel0, cmap='gray')\n",
    "plt.colorbar()"
   ]
  },
  {
   "cell_type": "markdown",
   "id": "bbaa7ec9",
   "metadata": {},
   "source": [
    "By looking at the kernel like this, we can sometimes tell what feature it is looking for. But often, what we see is hard to interpret. Depending on how your training went, you may or may not see a recognizable feature such as an edge or gradient. Usually the image at least looks non-random."
   ]
  },
  {
   "cell_type": "markdown",
   "id": "a1853a82",
   "metadata": {},
   "source": [
    "## Exercise 1\n",
    "\n",
    "Add a dropout layer which switches off half the neurons in the pooling layer by putting a dropout layer in between the pooling layer and the dense layer. Train your network again for 15 epochs and plot the accuracy on the training and validation data on a single plot as we did above. Take note of any differences between this plot and the one above."
   ]
  },
  {
   "cell_type": "code",
   "execution_count": 50,
   "id": "759c3856",
   "metadata": {},
   "outputs": [],
   "source": [
    "model2 = keras.Sequential()\n",
    "model2.add(keras.Input(shape=(28,28,1)))\n",
    "model2.add(layers.Conv2D(filters=10, kernel_size=(5,5), activation='sigmoid', input_shape=(28,28,1)))\n",
    "model2.add(layers.MaxPooling2D((2,2)))\n",
    "model2.add(layers.Dropout((0.5)))\n",
    "model2.add(layers.Flatten())\n",
    "model2.add(layers.Dense(10, activation='sigmoid'))"
   ]
  },
  {
   "cell_type": "code",
   "execution_count": 51,
   "id": "32b7529c-95b0-4545-ac59-30c88c4577b6",
   "metadata": {},
   "outputs": [],
   "source": [
    "model2.compile(\n",
    "    optimizer=keras.optimizers.SGD(),  # Optimizer\n",
    "    loss=keras.losses.CategoricalCrossentropy(), # Cost or loss function\n",
    "    metrics=[keras.metrics.CategoricalAccuracy()],\n",
    ")"
   ]
  },
  {
   "cell_type": "code",
   "execution_count": 52,
   "id": "a885070a-abf1-4383-a573-ce45f18ce9a2",
   "metadata": {},
   "outputs": [
    {
     "name": "stdout",
     "output_type": "stream",
     "text": [
      "Epoch 1/15\n",
      "500/500 [==============================] - 1s 2ms/step - loss: 2.4668 - categorical_accuracy: 0.1420 - val_loss: 2.0921 - val_categorical_accuracy: 0.2030\n",
      "Epoch 2/15\n",
      "500/500 [==============================] - 1s 1ms/step - loss: 1.6975 - categorical_accuracy: 0.4202 - val_loss: 1.1273 - val_categorical_accuracy: 0.7120\n",
      "Epoch 3/15\n",
      "500/500 [==============================] - 1s 1ms/step - loss: 1.0192 - categorical_accuracy: 0.6784 - val_loss: 0.8052 - val_categorical_accuracy: 0.7770\n",
      "Epoch 4/15\n",
      "500/500 [==============================] - 1s 1ms/step - loss: 0.7780 - categorical_accuracy: 0.7600 - val_loss: 0.6108 - val_categorical_accuracy: 0.8350\n",
      "Epoch 5/15\n",
      "500/500 [==============================] - 1s 1ms/step - loss: 0.6540 - categorical_accuracy: 0.7918 - val_loss: 0.5713 - val_categorical_accuracy: 0.8290\n",
      "Epoch 6/15\n",
      "500/500 [==============================] - 1s 1ms/step - loss: 0.5793 - categorical_accuracy: 0.8160 - val_loss: 0.5262 - val_categorical_accuracy: 0.8400\n",
      "Epoch 7/15\n",
      "500/500 [==============================] - 1s 1ms/step - loss: 0.5443 - categorical_accuracy: 0.8274 - val_loss: 0.4674 - val_categorical_accuracy: 0.8650\n",
      "Epoch 8/15\n",
      "500/500 [==============================] - 1s 1ms/step - loss: 0.5084 - categorical_accuracy: 0.8448 - val_loss: 0.4680 - val_categorical_accuracy: 0.8560\n",
      "Epoch 9/15\n",
      "500/500 [==============================] - 1s 2ms/step - loss: 0.4893 - categorical_accuracy: 0.8510 - val_loss: 0.4347 - val_categorical_accuracy: 0.8600\n",
      "Epoch 10/15\n",
      "500/500 [==============================] - 1s 2ms/step - loss: 0.4728 - categorical_accuracy: 0.8530 - val_loss: 0.4515 - val_categorical_accuracy: 0.8600\n",
      "Epoch 11/15\n",
      "500/500 [==============================] - 1s 2ms/step - loss: 0.4551 - categorical_accuracy: 0.8606 - val_loss: 0.4014 - val_categorical_accuracy: 0.8750\n",
      "Epoch 12/15\n",
      "500/500 [==============================] - 1s 1ms/step - loss: 0.4277 - categorical_accuracy: 0.8708 - val_loss: 0.3915 - val_categorical_accuracy: 0.8720\n",
      "Epoch 13/15\n",
      "500/500 [==============================] - 1s 1ms/step - loss: 0.4174 - categorical_accuracy: 0.8736 - val_loss: 0.3793 - val_categorical_accuracy: 0.8810\n",
      "Epoch 14/15\n",
      "500/500 [==============================] - 1s 1ms/step - loss: 0.4084 - categorical_accuracy: 0.8800 - val_loss: 0.3797 - val_categorical_accuracy: 0.8770\n",
      "Epoch 15/15\n",
      "500/500 [==============================] - 1s 1ms/step - loss: 0.3976 - categorical_accuracy: 0.8798 - val_loss: 0.3710 - val_categorical_accuracy: 0.8780\n"
     ]
    }
   ],
   "source": [
    "history2 = model2.fit(\n",
    "    training_inputs_28x28_small, training_labels_small,\n",
    "    epochs=15, \n",
    "    batch_size=10,\n",
    "    validation_data=(test_inputs_28x28_small, test_labels_small)\n",
    ")"
   ]
  },
  {
   "cell_type": "code",
   "execution_count": 53,
   "id": "73745b8b-dfd5-4ab2-b1a9-042e78990264",
   "metadata": {},
   "outputs": [
    {
     "data": {
      "text/plain": [
       "[<matplotlib.lines.Line2D at 0x24b4c0b6a90>]"
      ]
     },
     "execution_count": 53,
     "metadata": {},
     "output_type": "execute_result"
    },
    {
     "data": {
      "image/png": "[encoded data removed]",
      "text/plain": [
       "<Figure size 432x288 with 1 Axes>"
      ]
     },
     "metadata": {
      "needs_background": "light"
     },
     "output_type": "display_data"
    }
   ],
   "source": [
    "plt.plot(\n",
    "    history2.history['loss'],\n",
    "    label='train'\n",
    ")\n",
    "plt.plot(\n",
    "    history2.history['val_loss'],\n",
    "    label='test'\n",
    ")"
   ]
  },
  {
   "cell_type": "code",
   "execution_count": 54,
   "id": "c8dcfa3a-2fa0-4cde-9a8a-0f693128d36c",
   "metadata": {},
   "outputs": [
    {
     "data": {
      "text/plain": [
       "<matplotlib.legend.Legend at 0x24b4bf8da20>"
      ]
     },
     "execution_count": 54,
     "metadata": {},
     "output_type": "execute_result"
    },
    {
     "data": {
      "image/png": "[encoded data removed]",
      "text/plain": [
       "<Figure size 432x288 with 1 Axes>"
      ]
     },
     "metadata": {
      "needs_background": "light"
     },
     "output_type": "display_data"
    }
   ],
   "source": [
    "plt.plot(\n",
    "    history2.history['categorical_accuracy'],\n",
    "    label='train'\n",
    ")\n",
    "plt.plot(\n",
    "    history2.history['val_categorical_accuracy'],\n",
    "    label='test'\n",
    ")\n",
    "plt.legend()"
   ]
  },
  {
   "cell_type": "markdown",
   "id": "11a0f5fb-4d61-4cfa-b868-c34f3db4137c",
   "metadata": {},
   "source": [
    "With the dropout layer, the test data did slightly better than the training data rather than the other way around.  "
   ]
  },
  {
   "cell_type": "markdown",
   "id": "0e9e5101",
   "metadata": {},
   "source": [
    "## Exercise 2\n",
    "\n",
    "Design a model with the same architecture above except use only one feature map with a $5\\times 5$ kernel. Make a new training set consisting only of those images (in the first 5000 MNIST images) which are either a $1$ or a $7$. Train your network on this new training set for at least 50 epochs. Show, as a grayscale image, the value of the kernel (you should have only one) at the end of the training. "
   ]
  },
  {
   "cell_type": "code",
   "execution_count": 55,
   "id": "6b65c310-1cef-4965-ad74-3c3b602601f7",
   "metadata": {},
   "outputs": [],
   "source": [
    "##for reference\n",
    "#training_data, validation_data, test_data = mnist_loader.load_data_wrapper()\n",
    "#training_data = list(training_data)[:5000]\n",
    "#test_data = list(test_data)[:1000]\n",
    "\n",
    "#training_inputs = [x[0] for x in training_data]\n",
    "#training_labels = [x[1] for x in training_data]\n",
    "\n"
   ]
  },
  {
   "cell_type": "code",
   "execution_count": 56,
   "id": "f1955aec-c17f-4094-a006-86032a49d959",
   "metadata": {},
   "outputs": [],
   "source": [
    "test_inputs2_28x28 = np.array([x[0].reshape((28,28,1)) for x in test_data_small])\n",
    "test_labels2 = np.array(tf.one_hot([x[1] for x in test_data_small], depth=10))"
   ]
  },
  {
   "cell_type": "code",
   "execution_count": 57,
   "id": "a8efd5b6-024d-46c7-b51b-b30625a4ff52",
   "metadata": {},
   "outputs": [
    {
     "data": {
      "text/plain": [
       "(1000, 28, 28, 1)"
      ]
     },
     "execution_count": 57,
     "metadata": {},
     "output_type": "execute_result"
    }
   ],
   "source": [
    "test_inputs2_28x28.shape"
   ]
  },
  {
   "cell_type": "code",
   "execution_count": 58,
   "id": "4557c261-39bd-441e-a608-deb4a4857d67",
   "metadata": {},
   "outputs": [],
   "source": [
    "new_training_inputs = [] \n",
    "new_training_labels = []\n",
    "for n in range(len(training_inputs)): \n",
    "    if training_labels[n][7] == np.array(1) or training_labels[n][1] == np.array(1):#checks if n input corresponds to label 1 or 7\n",
    "        new_training_inputs.append(training_inputs[n])\n",
    "        new_training_labels.append(training_labels[n])\n",
    "\n",
    "new_training_inputs = np.array([x.reshape((28,28,1)) for x in new_training_inputs])\n",
    "new_training_labels = np.array(new_training_labels)"
   ]
  },
  {
   "cell_type": "code",
   "execution_count": 59,
   "id": "ba79a839-cf7b-47a6-801f-ae840a29c6ac",
   "metadata": {},
   "outputs": [
    {
     "data": {
      "text/plain": [
       "((10853, 28, 28, 1), (10853, 10, 1))"
      ]
     },
     "execution_count": 59,
     "metadata": {},
     "output_type": "execute_result"
    }
   ],
   "source": [
    "new_training_inputs.shape, new_training_labels.shape"
   ]
  },
  {
   "cell_type": "code",
   "execution_count": 60,
   "id": "9be8fdc9-2fe6-4480-b8b2-f7973542c34f",
   "metadata": {},
   "outputs": [
    {
     "name": "stdout",
     "output_type": "stream",
     "text": [
      "True\n"
     ]
    }
   ],
   "source": [
    "##double check it worked \n",
    "ones = [new_training_labels[n][1] == np.array(1) for n in range(len(new_training_labels))]\n",
    "sevens = [new_training_labels[n][7] == np.array(1) for n in range(len(new_training_labels))]\n",
    "num_ones = ones.count(True)\n",
    "num_sevens = sevens.count(True)\n",
    "print(len(new_training_labels) == num_ones+num_sevens)"
   ]
  },
  {
   "cell_type": "code",
   "execution_count": 61,
   "id": "997203ae-5875-4603-848f-6b8ef24054ce",
   "metadata": {},
   "outputs": [],
   "source": [
    "model3 = keras.Sequential()\n",
    "model3.add(keras.Input(shape=(28,28,1)))\n",
    "model3.add(layers.Conv2D(filters=1, kernel_size=(5,5), activation='sigmoid', input_shape=(28,28,1))) #only one filter\n",
    "model3.add(layers.MaxPooling2D((2,2)))\n",
    "model3.add(layers.Flatten())\n",
    "model3.add(layers.Dense(10, activation='sigmoid'))"
   ]
  },
  {
   "cell_type": "code",
   "execution_count": 62,
   "id": "d435a6d2-3b60-4cf5-bfa3-53ec9dfb19b6",
   "metadata": {},
   "outputs": [],
   "source": [
    "model3.compile(\n",
    "    optimizer=keras.optimizers.SGD(),  # Optimizer\n",
    "    loss=keras.losses.CategoricalCrossentropy(), # Cost or loss function\n",
    "    metrics=[keras.metrics.CategoricalAccuracy()],\n",
    ")"
   ]
  },
  {
   "cell_type": "code",
   "execution_count": 63,
   "id": "16e794e4-ae5d-4c05-8cef-e671a0066c35",
   "metadata": {},
   "outputs": [
    {
     "name": "stdout",
     "output_type": "stream",
     "text": [
      "Epoch 1/50\n",
      "1086/1086 [==============================] - 2s 1ms/step - loss: 0.3702 - categorical_accuracy: 0.9024 - val_loss: 6.1505 - val_categorical_accuracy: 0.2140\n",
      "Epoch 2/50\n",
      "1086/1086 [==============================] - 2s 1ms/step - loss: 0.1125 - categorical_accuracy: 0.9748 - val_loss: 6.5401 - val_categorical_accuracy: 0.2160\n",
      "Epoch 3/50\n",
      "1086/1086 [==============================] - 2s 1ms/step - loss: 0.0831 - categorical_accuracy: 0.9780 - val_loss: 6.8318 - val_categorical_accuracy: 0.2170\n",
      "Epoch 4/50\n",
      "1086/1086 [==============================] - 2s 1ms/step - loss: 0.0695 - categorical_accuracy: 0.9813 - val_loss: 7.0695 - val_categorical_accuracy: 0.2170\n",
      "Epoch 5/50\n",
      "1086/1086 [==============================] - 2s 1ms/step - loss: 0.0608 - categorical_accuracy: 0.9834 - val_loss: 7.2221 - val_categorical_accuracy: 0.2190\n",
      "Epoch 6/50\n",
      "1086/1086 [==============================] - 2s 1ms/step - loss: 0.0546 - categorical_accuracy: 0.9843 - val_loss: 7.4278 - val_categorical_accuracy: 0.2230\n",
      "Epoch 7/50\n",
      "1086/1086 [==============================] - 2s 1ms/step - loss: 0.0495 - categorical_accuracy: 0.9858 - val_loss: 7.5086 - val_categorical_accuracy: 0.2240\n",
      "Epoch 8/50\n",
      "1086/1086 [==============================] - 2s 1ms/step - loss: 0.0454 - categorical_accuracy: 0.9869 - val_loss: 7.6194 - val_categorical_accuracy: 0.2240\n",
      "Epoch 9/50\n",
      "1086/1086 [==============================] - 2s 1ms/step - loss: 0.0420 - categorical_accuracy: 0.9878 - val_loss: 7.7149 - val_categorical_accuracy: 0.2240\n",
      "Epoch 10/50\n",
      "1086/1086 [==============================] - 2s 1ms/step - loss: 0.0392 - categorical_accuracy: 0.9880 - val_loss: 7.8021 - val_categorical_accuracy: 0.2240\n",
      "Epoch 11/50\n",
      "1086/1086 [==============================] - 2s 1ms/step - loss: 0.0367 - categorical_accuracy: 0.9889 - val_loss: 7.8789 - val_categorical_accuracy: 0.2240\n",
      "Epoch 12/50\n",
      "1086/1086 [==============================] - 2s 1ms/step - loss: 0.0346 - categorical_accuracy: 0.9896 - val_loss: 7.9526 - val_categorical_accuracy: 0.2240\n",
      "Epoch 13/50\n",
      "1086/1086 [==============================] - 2s 1ms/step - loss: 0.0328 - categorical_accuracy: 0.9905 - val_loss: 8.0393 - val_categorical_accuracy: 0.2250\n",
      "Epoch 14/50\n",
      "1086/1086 [==============================] - 2s 1ms/step - loss: 0.0312 - categorical_accuracy: 0.9910 - val_loss: 8.0585 - val_categorical_accuracy: 0.2250\n",
      "Epoch 15/50\n",
      "1086/1086 [==============================] - 2s 1ms/step - loss: 0.0298 - categorical_accuracy: 0.9912 - val_loss: 8.1094 - val_categorical_accuracy: 0.2250\n",
      "Epoch 16/50\n",
      "1086/1086 [==============================] - 2s 1ms/step - loss: 0.0284 - categorical_accuracy: 0.9919 - val_loss: 8.1217 - val_categorical_accuracy: 0.2240\n",
      "Epoch 17/50\n",
      "1086/1086 [==============================] - 2s 1ms/step - loss: 0.0272 - categorical_accuracy: 0.9924 - val_loss: 8.2644 - val_categorical_accuracy: 0.2240\n",
      "Epoch 18/50\n",
      "1086/1086 [==============================] - 2s 1ms/step - loss: 0.0262 - categorical_accuracy: 0.9924 - val_loss: 8.2550 - val_categorical_accuracy: 0.2250\n",
      "Epoch 19/50\n",
      "1086/1086 [==============================] - 2s 1ms/step - loss: 0.0254 - categorical_accuracy: 0.9927 - val_loss: 8.3450 - val_categorical_accuracy: 0.2250\n",
      "Epoch 20/50\n",
      "1086/1086 [==============================] - 2s 1ms/step - loss: 0.0245 - categorical_accuracy: 0.9930 - val_loss: 8.4077 - val_categorical_accuracy: 0.2240\n",
      "Epoch 21/50\n",
      "1086/1086 [==============================] - 2s 1ms/step - loss: 0.0238 - categorical_accuracy: 0.9933 - val_loss: 8.3866 - val_categorical_accuracy: 0.2250\n",
      "Epoch 22/50\n",
      "1086/1086 [==============================] - 1s 1ms/step - loss: 0.0231 - categorical_accuracy: 0.9931 - val_loss: 8.4170 - val_categorical_accuracy: 0.2250\n",
      "Epoch 23/50\n",
      "1086/1086 [==============================] - 2s 1ms/step - loss: 0.0225 - categorical_accuracy: 0.9935 - val_loss: 8.5025 - val_categorical_accuracy: 0.2250\n",
      "Epoch 24/50\n",
      "1086/1086 [==============================] - 2s 1ms/step - loss: 0.0220 - categorical_accuracy: 0.9936 - val_loss: 8.5030 - val_categorical_accuracy: 0.2250\n",
      "Epoch 25/50\n",
      "1086/1086 [==============================] - 2s 1ms/step - loss: 0.0214 - categorical_accuracy: 0.9933 - val_loss: 8.5755 - val_categorical_accuracy: 0.2250\n",
      "Epoch 26/50\n",
      "1086/1086 [==============================] - 2s 1ms/step - loss: 0.0210 - categorical_accuracy: 0.9935 - val_loss: 8.6065 - val_categorical_accuracy: 0.2250\n",
      "Epoch 27/50\n",
      "1086/1086 [==============================] - 2s 1ms/step - loss: 0.0205 - categorical_accuracy: 0.9936 - val_loss: 8.6290 - val_categorical_accuracy: 0.2250\n",
      "Epoch 28/50\n",
      "1086/1086 [==============================] - 2s 1ms/step - loss: 0.0201 - categorical_accuracy: 0.9935 - val_loss: 8.6716 - val_categorical_accuracy: 0.2250\n",
      "Epoch 29/50\n",
      "1086/1086 [==============================] - 2s 1ms/step - loss: 0.0197 - categorical_accuracy: 0.9942 - val_loss: 8.6925 - val_categorical_accuracy: 0.2250\n",
      "Epoch 30/50\n",
      "1086/1086 [==============================] - 2s 1ms/step - loss: 0.0193 - categorical_accuracy: 0.9942 - val_loss: 8.7401 - val_categorical_accuracy: 0.2250\n",
      "Epoch 31/50\n",
      "1086/1086 [==============================] - 2s 1ms/step - loss: 0.0190 - categorical_accuracy: 0.9944 - val_loss: 8.7787 - val_categorical_accuracy: 0.2250\n",
      "Epoch 32/50\n",
      "1086/1086 [==============================] - 2s 1ms/step - loss: 0.0186 - categorical_accuracy: 0.9943 - val_loss: 8.8017 - val_categorical_accuracy: 0.2250\n",
      "Epoch 33/50\n",
      "1086/1086 [==============================] - 2s 1ms/step - loss: 0.0183 - categorical_accuracy: 0.9948 - val_loss: 8.8219 - val_categorical_accuracy: 0.2250\n",
      "Epoch 34/50\n",
      "1086/1086 [==============================] - 2s 1ms/step - loss: 0.0181 - categorical_accuracy: 0.9947 - val_loss: 8.8486 - val_categorical_accuracy: 0.2250\n",
      "Epoch 35/50\n",
      "1086/1086 [==============================] - 2s 1ms/step - loss: 0.0178 - categorical_accuracy: 0.9947 - val_loss: 8.8909 - val_categorical_accuracy: 0.2250\n",
      "Epoch 36/50\n",
      "1086/1086 [==============================] - 2s 1ms/step - loss: 0.0175 - categorical_accuracy: 0.9948 - val_loss: 8.8935 - val_categorical_accuracy: 0.2250\n",
      "Epoch 37/50\n",
      "1086/1086 [==============================] - 2s 1ms/step - loss: 0.0173 - categorical_accuracy: 0.9950 - val_loss: 8.9264 - val_categorical_accuracy: 0.2250\n",
      "Epoch 38/50\n",
      "1086/1086 [==============================] - 2s 1ms/step - loss: 0.0170 - categorical_accuracy: 0.9948 - val_loss: 8.9347 - val_categorical_accuracy: 0.2250\n",
      "Epoch 39/50\n",
      "1086/1086 [==============================] - 2s 1ms/step - loss: 0.0168 - categorical_accuracy: 0.9951 - val_loss: 9.0093 - val_categorical_accuracy: 0.2250\n",
      "Epoch 40/50\n",
      "1086/1086 [==============================] - 2s 1ms/step - loss: 0.0166 - categorical_accuracy: 0.9953 - val_loss: 8.9974 - val_categorical_accuracy: 0.2250\n",
      "Epoch 41/50\n",
      "1086/1086 [==============================] - 2s 1ms/step - loss: 0.0165 - categorical_accuracy: 0.9951 - val_loss: 9.0184 - val_categorical_accuracy: 0.2250\n",
      "Epoch 42/50\n",
      "1086/1086 [==============================] - 2s 1ms/step - loss: 0.0163 - categorical_accuracy: 0.9951 - val_loss: 9.0624 - val_categorical_accuracy: 0.2250\n",
      "Epoch 43/50\n",
      "1086/1086 [==============================] - 2s 1ms/step - loss: 0.0161 - categorical_accuracy: 0.9948 - val_loss: 9.0856 - val_categorical_accuracy: 0.2250\n",
      "Epoch 44/50\n",
      "1086/1086 [==============================] - 2s 1ms/step - loss: 0.0159 - categorical_accuracy: 0.9952 - val_loss: 9.1333 - val_categorical_accuracy: 0.2250\n",
      "Epoch 45/50\n",
      "1086/1086 [==============================] - 2s 1ms/step - loss: 0.0158 - categorical_accuracy: 0.9950 - val_loss: 9.1235 - val_categorical_accuracy: 0.2250\n",
      "Epoch 46/50\n",
      "1086/1086 [==============================] - 2s 1ms/step - loss: 0.0156 - categorical_accuracy: 0.9952 - val_loss: 9.1517 - val_categorical_accuracy: 0.2250\n",
      "Epoch 47/50\n",
      "1086/1086 [==============================] - 2s 1ms/step - loss: 0.0155 - categorical_accuracy: 0.9953 - val_loss: 9.1732 - val_categorical_accuracy: 0.2250\n",
      "Epoch 48/50\n",
      "1086/1086 [==============================] - 2s 1ms/step - loss: 0.0153 - categorical_accuracy: 0.9953 - val_loss: 9.2103 - val_categorical_accuracy: 0.2250\n",
      "Epoch 49/50\n",
      "1086/1086 [==============================] - 2s 1ms/step - loss: 0.0151 - categorical_accuracy: 0.9952 - val_loss: 9.2508 - val_categorical_accuracy: 0.2250\n",
      "Epoch 50/50\n",
      "1086/1086 [==============================] - 2s 1ms/step - loss: 0.0151 - categorical_accuracy: 0.9952 - val_loss: 9.2395 - val_categorical_accuracy: 0.2250\n"
     ]
    }
   ],
   "source": [
    "history3 = model3.fit(\n",
    "    new_training_inputs, new_training_labels,\n",
    "    epochs=50, \n",
    "    batch_size=10,\n",
    "    validation_data=(test_inputs2_28x28, test_labels2)\n",
    ")"
   ]
  },
  {
   "cell_type": "code",
   "execution_count": 64,
   "id": "a66bec21-7830-492f-9cdc-9e0e2033f1b4",
   "metadata": {},
   "outputs": [
    {
     "data": {
      "text/plain": [
       "<matplotlib.colorbar.Colorbar at 0x24b4dcb0470>"
      ]
     },
     "execution_count": 64,
     "metadata": {},
     "output_type": "execute_result"
    },
    {
     "data": {
      "image/png": "[encoded data removed]",
      "text/plain": [
       "<Figure size 432x288 with 2 Axes>"
      ]
     },
     "metadata": {
      "needs_background": "light"
     },
     "output_type": "display_data"
    }
   ],
   "source": [
    "kernel = model3.weights[0]\n",
    "kernel = kernel.numpy()[:,:,0,0]\n",
    "plt.imshow(kernel, cmap='gray')\n",
    "plt.colorbar()"
   ]
  },
  {
   "cell_type": "markdown",
   "id": "d780e274",
   "metadata": {},
   "source": [
    "## Challenge\n",
    "\n",
    "It's time to see just how far you can go with the MNIST data. By using CNNs together with the various other tricks we've learned during this course, try and get the best accuracy you can on the MNIST test data. You are allowed to use the small 1000-image test set if you like, but if you can use the whole MNIST set, do so. You may have to use Jupyter on your own computer or a lab computer at UNCG ([here](https://jupyter.org/install) is how to install it). Or you can try using [Google Colab](https://colab.research.google.com/). \n",
    "\n",
    "Submit your code on Canvas and report your best accuracy on the test data in the submission comments. You will receive the point for the Challenge question for anything above 95% accuracy. The person who achieves the highest accuracy will get one bonus point."
   ]
  },
  {
   "cell_type": "code",
   "execution_count": 65,
   "id": "bd69c544",
   "metadata": {},
   "outputs": [],
   "source": [
    "training_inputs = [x[0] for x in training_data]\n",
    "training_labels = [x[1] for x in training_data]\n",
    "training_inputs_28x28 = np.array([x.reshape((28,28,1)) for x in training_inputs])\n",
    "training_labels = np.array(training_labels)\n",
    "test_inputs_28x28 = np.array([x[0].reshape((28,28,1)) for x in test_data])\n",
    "test_labels = np.array(tf.one_hot([x[1] for x in test_data], depth=10))"
   ]
  },
  {
   "cell_type": "code",
   "execution_count": 66,
   "id": "8026c8b2",
   "metadata": {},
   "outputs": [
    {
     "data": {
      "text/plain": [
       "(50000, 28, 28, 1)"
      ]
     },
     "execution_count": 66,
     "metadata": {},
     "output_type": "execute_result"
    }
   ],
   "source": [
    "training_inputs_28x28.shape"
   ]
  },
  {
   "cell_type": "code",
   "execution_count": 70,
   "id": "3785dc84-9ea0-4012-ac62-1389f7f72744",
   "metadata": {},
   "outputs": [],
   "source": [
    "model4 = keras.Sequential()\n",
    "model4.add(keras.Input(shape=(28,28,1)))\n",
    "model4.add(layers.Conv2D(filters=15, kernel_size=(5,5), activation='sigmoid', input_shape=(28,28,1)))\n",
    "model4.add(layers.MaxPooling2D((2,2)))\n",
    "model4.add(layers.Conv2D(filters=10, kernel_size=(3,3), activation='sigmoid', input_shape=(12,12,15)))\n",
    "model4.add(layers.MaxPooling2D((2,2)))\n",
    "model4.add(layers.Dropout((0.3))) \n",
    "model4.add(layers.Flatten())\n",
    "model4.add(layers.Dense(10, activation='sigmoid'))"
   ]
  },
  {
   "cell_type": "code",
   "execution_count": 71,
   "id": "a8bcc1d3-adbd-4c1a-b249-6251c4c35677",
   "metadata": {},
   "outputs": [],
   "source": [
    "model4.compile(\n",
    "    optimizer=keras.optimizers.Adam(learning_rate=0.0005),  # Optimizer https://keras.io/api/optimizers/adam/\n",
    "    loss=keras.losses.CategoricalCrossentropy(), # Cost or loss function\n",
    "    metrics=[keras.metrics.CategoricalAccuracy()],\n",
    ")"
   ]
  },
  {
   "cell_type": "code",
   "execution_count": 72,
   "id": "2dc535d2-fe7e-4f13-95df-f5dff56e0a3a",
   "metadata": {},
   "outputs": [
    {
     "name": "stdout",
     "output_type": "stream",
     "text": [
      "Epoch 1/50\n",
      "5000/5000 [==============================] - 10s 2ms/step - loss: 1.0893 - categorical_accuracy: 0.6359 - val_loss: 0.3258 - val_categorical_accuracy: 0.9080\n",
      "Epoch 2/50\n",
      "5000/5000 [==============================] - 10s 2ms/step - loss: 0.3222 - categorical_accuracy: 0.9053 - val_loss: 0.1748 - val_categorical_accuracy: 0.9518\n",
      "Epoch 3/50\n",
      "5000/5000 [==============================] - 10s 2ms/step - loss: 0.2178 - categorical_accuracy: 0.9329 - val_loss: 0.1230 - val_categorical_accuracy: 0.9647\n",
      "Epoch 4/50\n",
      "5000/5000 [==============================] - 10s 2ms/step - loss: 0.1745 - categorical_accuracy: 0.9464 - val_loss: 0.0997 - val_categorical_accuracy: 0.9715\n",
      "Epoch 5/50\n",
      "5000/5000 [==============================] - 10s 2ms/step - loss: 0.1502 - categorical_accuracy: 0.9540 - val_loss: 0.0906 - val_categorical_accuracy: 0.9729\n",
      "Epoch 6/50\n",
      "5000/5000 [==============================] - 9s 2ms/step - loss: 0.1395 - categorical_accuracy: 0.9570 - val_loss: 0.0788 - val_categorical_accuracy: 0.9766\n",
      "Epoch 7/50\n",
      "5000/5000 [==============================] - 10s 2ms/step - loss: 0.1327 - categorical_accuracy: 0.9589 - val_loss: 0.0730 - val_categorical_accuracy: 0.9784\n",
      "Epoch 8/50\n",
      "5000/5000 [==============================] - 10s 2ms/step - loss: 0.1228 - categorical_accuracy: 0.9611 - val_loss: 0.0687 - val_categorical_accuracy: 0.9788\n",
      "Epoch 9/50\n",
      "5000/5000 [==============================] - 9s 2ms/step - loss: 0.1185 - categorical_accuracy: 0.9635 - val_loss: 0.0682 - val_categorical_accuracy: 0.9804\n",
      "Epoch 10/50\n",
      "5000/5000 [==============================] - 10s 2ms/step - loss: 0.1141 - categorical_accuracy: 0.9638 - val_loss: 0.0656 - val_categorical_accuracy: 0.9813\n",
      "Epoch 11/50\n",
      "5000/5000 [==============================] - 9s 2ms/step - loss: 0.1105 - categorical_accuracy: 0.9649 - val_loss: 0.0622 - val_categorical_accuracy: 0.9811\n",
      "Epoch 12/50\n",
      "5000/5000 [==============================] - 10s 2ms/step - loss: 0.1058 - categorical_accuracy: 0.9663 - val_loss: 0.0608 - val_categorical_accuracy: 0.9823\n",
      "Epoch 13/50\n",
      "5000/5000 [==============================] - 10s 2ms/step - loss: 0.1028 - categorical_accuracy: 0.9679 - val_loss: 0.0587 - val_categorical_accuracy: 0.9818\n",
      "Epoch 14/50\n",
      "5000/5000 [==============================] - 10s 2ms/step - loss: 0.0998 - categorical_accuracy: 0.9684 - val_loss: 0.0558 - val_categorical_accuracy: 0.9824\n",
      "Epoch 15/50\n",
      "5000/5000 [==============================] - 10s 2ms/step - loss: 0.0988 - categorical_accuracy: 0.9694 - val_loss: 0.0562 - val_categorical_accuracy: 0.9827\n",
      "Epoch 16/50\n",
      "5000/5000 [==============================] - 9s 2ms/step - loss: 0.0973 - categorical_accuracy: 0.9685 - val_loss: 0.0558 - val_categorical_accuracy: 0.9822\n",
      "Epoch 17/50\n",
      "5000/5000 [==============================] - 10s 2ms/step - loss: 0.0948 - categorical_accuracy: 0.9713 - val_loss: 0.0545 - val_categorical_accuracy: 0.9831\n",
      "Epoch 18/50\n",
      "5000/5000 [==============================] - 10s 2ms/step - loss: 0.0929 - categorical_accuracy: 0.9701 - val_loss: 0.0535 - val_categorical_accuracy: 0.9828\n",
      "Epoch 19/50\n",
      "5000/5000 [==============================] - 9s 2ms/step - loss: 0.0897 - categorical_accuracy: 0.9718 - val_loss: 0.0503 - val_categorical_accuracy: 0.9848\n",
      "Epoch 20/50\n",
      "5000/5000 [==============================] - 10s 2ms/step - loss: 0.0878 - categorical_accuracy: 0.9717 - val_loss: 0.0501 - val_categorical_accuracy: 0.9842\n",
      "Epoch 21/50\n",
      "5000/5000 [==============================] - 9s 2ms/step - loss: 0.0855 - categorical_accuracy: 0.9731 - val_loss: 0.0504 - val_categorical_accuracy: 0.9848\n",
      "Epoch 22/50\n",
      "5000/5000 [==============================] - 10s 2ms/step - loss: 0.0871 - categorical_accuracy: 0.9723 - val_loss: 0.0480 - val_categorical_accuracy: 0.9853\n",
      "Epoch 23/50\n",
      "5000/5000 [==============================] - 10s 2ms/step - loss: 0.0842 - categorical_accuracy: 0.9736 - val_loss: 0.0473 - val_categorical_accuracy: 0.9853\n",
      "Epoch 24/50\n",
      "5000/5000 [==============================] - 10s 2ms/step - loss: 0.0823 - categorical_accuracy: 0.9736 - val_loss: 0.0470 - val_categorical_accuracy: 0.9841\n",
      "Epoch 25/50\n",
      "5000/5000 [==============================] - 10s 2ms/step - loss: 0.0806 - categorical_accuracy: 0.9744 - val_loss: 0.0464 - val_categorical_accuracy: 0.9856\n",
      "Epoch 26/50\n",
      "5000/5000 [==============================] - 9s 2ms/step - loss: 0.0777 - categorical_accuracy: 0.9746 - val_loss: 0.0456 - val_categorical_accuracy: 0.9853\n",
      "Epoch 27/50\n",
      "5000/5000 [==============================] - 10s 2ms/step - loss: 0.0786 - categorical_accuracy: 0.9749 - val_loss: 0.0454 - val_categorical_accuracy: 0.9864\n",
      "Epoch 28/50\n",
      "5000/5000 [==============================] - 10s 2ms/step - loss: 0.0766 - categorical_accuracy: 0.9755 - val_loss: 0.0471 - val_categorical_accuracy: 0.9857\n",
      "Epoch 29/50\n",
      "5000/5000 [==============================] - 10s 2ms/step - loss: 0.0777 - categorical_accuracy: 0.9749 - val_loss: 0.0452 - val_categorical_accuracy: 0.9859\n",
      "Epoch 30/50\n",
      "5000/5000 [==============================] - 10s 2ms/step - loss: 0.0747 - categorical_accuracy: 0.9760 - val_loss: 0.0439 - val_categorical_accuracy: 0.9865\n",
      "Epoch 31/50\n",
      "5000/5000 [==============================] - 9s 2ms/step - loss: 0.0758 - categorical_accuracy: 0.9761 - val_loss: 0.0443 - val_categorical_accuracy: 0.9860\n",
      "Epoch 32/50\n",
      "5000/5000 [==============================] - 10s 2ms/step - loss: 0.0759 - categorical_accuracy: 0.9758 - val_loss: 0.0454 - val_categorical_accuracy: 0.9854\n",
      "Epoch 33/50\n",
      "5000/5000 [==============================] - 10s 2ms/step - loss: 0.0720 - categorical_accuracy: 0.9777 - val_loss: 0.0424 - val_categorical_accuracy: 0.9868\n",
      "Epoch 34/50\n",
      "5000/5000 [==============================] - 9s 2ms/step - loss: 0.0741 - categorical_accuracy: 0.9763 - val_loss: 0.0423 - val_categorical_accuracy: 0.9870\n",
      "Epoch 35/50\n",
      "5000/5000 [==============================] - 10s 2ms/step - loss: 0.0732 - categorical_accuracy: 0.9765 - val_loss: 0.0438 - val_categorical_accuracy: 0.9858\n",
      "Epoch 36/50\n",
      "5000/5000 [==============================] - 9s 2ms/step - loss: 0.0720 - categorical_accuracy: 0.9772 - val_loss: 0.0427 - val_categorical_accuracy: 0.9874\n",
      "Epoch 37/50\n",
      "5000/5000 [==============================] - 10s 2ms/step - loss: 0.0691 - categorical_accuracy: 0.9775 - val_loss: 0.0417 - val_categorical_accuracy: 0.9865\n",
      "Epoch 38/50\n",
      "5000/5000 [==============================] - 10s 2ms/step - loss: 0.0704 - categorical_accuracy: 0.9777 - val_loss: 0.0415 - val_categorical_accuracy: 0.9867\n",
      "Epoch 39/50\n",
      "5000/5000 [==============================] - 10s 2ms/step - loss: 0.0672 - categorical_accuracy: 0.9778 - val_loss: 0.0426 - val_categorical_accuracy: 0.9860\n",
      "Epoch 40/50\n",
      "5000/5000 [==============================] - 10s 2ms/step - loss: 0.0691 - categorical_accuracy: 0.9786 - val_loss: 0.0398 - val_categorical_accuracy: 0.9885\n",
      "Epoch 41/50\n",
      "5000/5000 [==============================] - 9s 2ms/step - loss: 0.0666 - categorical_accuracy: 0.9790 - val_loss: 0.0410 - val_categorical_accuracy: 0.9868\n",
      "Epoch 42/50\n",
      "5000/5000 [==============================] - 10s 2ms/step - loss: 0.0680 - categorical_accuracy: 0.9779 - val_loss: 0.0395 - val_categorical_accuracy: 0.9881\n",
      "Epoch 43/50\n",
      "5000/5000 [==============================] - 10s 2ms/step - loss: 0.0678 - categorical_accuracy: 0.9782 - val_loss: 0.0417 - val_categorical_accuracy: 0.9878\n",
      "Epoch 44/50\n",
      "5000/5000 [==============================] - 9s 2ms/step - loss: 0.0665 - categorical_accuracy: 0.9795 - val_loss: 0.0387 - val_categorical_accuracy: 0.9886\n",
      "Epoch 45/50\n",
      "5000/5000 [==============================] - 10s 2ms/step - loss: 0.0655 - categorical_accuracy: 0.9781 - val_loss: 0.0395 - val_categorical_accuracy: 0.9879\n",
      "Epoch 46/50\n",
      "5000/5000 [==============================] - 10s 2ms/step - loss: 0.0665 - categorical_accuracy: 0.9791 - val_loss: 0.0396 - val_categorical_accuracy: 0.9881\n",
      "Epoch 47/50\n",
      "5000/5000 [==============================] - 10s 2ms/step - loss: 0.0642 - categorical_accuracy: 0.9800 - val_loss: 0.0404 - val_categorical_accuracy: 0.9882\n",
      "Epoch 48/50\n",
      "5000/5000 [==============================] - 10s 2ms/step - loss: 0.0641 - categorical_accuracy: 0.9795 - val_loss: 0.0432 - val_categorical_accuracy: 0.9861\n",
      "Epoch 49/50\n",
      "5000/5000 [==============================] - 10s 2ms/step - loss: 0.0630 - categorical_accuracy: 0.9797 - val_loss: 0.0390 - val_categorical_accuracy: 0.9882\n",
      "Epoch 50/50\n",
      "5000/5000 [==============================] - 10s 2ms/step - loss: 0.0622 - categorical_accuracy: 0.9799 - val_loss: 0.0396 - val_categorical_accuracy: 0.9885\n"
     ]
    }
   ],
   "source": [
    "history4 = model4.fit(\n",
    "    training_inputs_28x28, training_labels,\n",
    "    epochs=50, \n",
    "    batch_size=10,\n",
    "    validation_data=(test_inputs_28x28, test_labels)\n",
    ")"
   ]
  },
  {
   "cell_type": "code",
   "execution_count": 73,
   "id": "a8000750-8b26-452c-a639-506018ef1faa",
   "metadata": {},
   "outputs": [
    {
     "data": {
      "text/plain": [
       "[<matplotlib.lines.Line2D at 0x24b4db60048>]"
      ]
     },
     "execution_count": 73,
     "metadata": {},
     "output_type": "execute_result"
    },
    {
     "data": {
      "image/png": "[encoded data removed]",
      "text/plain": [
       "<Figure size 432x288 with 1 Axes>"
      ]
     },
     "metadata": {
      "needs_background": "light"
     },
     "output_type": "display_data"
    }
   ],
   "source": [
    "plt.plot(\n",
    "    history4.history['loss'],\n",
    "    label='train'\n",
    ")\n",
    "plt.plot(\n",
    "    history4.history['val_loss'],\n",
    "    label='test'\n",
    ")"
   ]
  },
  {
   "cell_type": "code",
   "execution_count": 74,
   "id": "44c97264-422e-4e46-8c21-79865d04d086",
   "metadata": {},
   "outputs": [
    {
     "data": {
      "text/plain": [
       "<matplotlib.legend.Legend at 0x24b4ed58208>"
      ]
     },
     "execution_count": 74,
     "metadata": {},
     "output_type": "execute_result"
    },
    {
     "data": {
      "image/png": "[encoded data removed]",
      "text/plain": [
       "<Figure size 432x288 with 1 Axes>"
      ]
     },
     "metadata": {
      "needs_background": "light"
     },
     "output_type": "display_data"
    }
   ],
   "source": [
    "plt.plot(\n",
    "    history4.history['categorical_accuracy'],\n",
    "    label='train'\n",
    ")\n",
    "plt.plot(\n",
    "    history4.history['val_categorical_accuracy'],\n",
    "    label='test'\n",
    ")\n",
    "plt.legend()"
   ]
  },
  {
   "cell_type": "code",
   "execution_count": 75,
   "id": "b94ad259",
   "metadata": {},
   "outputs": [
    {
     "name": "stdout",
     "output_type": "stream",
     "text": [
      "INFO:tensorflow:Assets written to: mymodel4\\assets\n",
      "313/313 [==============================] - 1s 2ms/step - loss: 0.0396 - categorical_accuracy: 0.9885\n"
     ]
    },
    {
     "data": {
      "text/plain": [
       "[0.03955026715993881, 0.9884999990463257]"
      ]
     },
     "execution_count": 75,
     "metadata": {},
     "output_type": "execute_result"
    }
   ],
   "source": [
    "model4.save('mymodel4')\n",
    "model4 = keras.models.load_model('mymodel4')\n",
    "model4.evaluate(test_inputs_28x28, test_labels)"
   ]
  },
  {
   "cell_type": "code",
   "execution_count": null,
   "id": "6b51e3b2",
   "metadata": {},
   "outputs": [],
   "source": []
  }
 ],
 "metadata": {
  "kernelspec": {
   "display_name": "Python 3 (ipykernel)",
   "language": "python",
   "name": "python3"
  },
  "language_info": {
   "codemirror_mode": {
    "name": "ipython",
    "version": 3
   },
   "file_extension": ".py",
   "mimetype": "text/x-python",
   "name": "python",
   "nbconvert_exporter": "python",
   "pygments_lexer": "ipython3",
   "version": "3.10.6"
  }
 },
 "nbformat": 4,
 "nbformat_minor": 5
}
