{
 "cells": [
  {
   "cell_type": "code",
   "execution_count": 2,
   "id": "eedfecad-43f4-455f-bce8-29ce79a232df",
   "metadata": {},
   "outputs": [
    {
     "name": "stdout",
     "output_type": "stream",
     "text": [
      "Collecting cvxpy\n",
      "  Using cached cvxpy-1.3.1-cp310-cp310-manylinux_2_17_x86_64.manylinux2014_x86_64.whl (4.0 MB)\n",
      "Collecting scs>=1.1.6\n",
      "  Using cached scs-3.2.3-cp310-cp310-manylinux_2_17_x86_64.manylinux2014_x86_64.whl (10.7 MB)\n",
      "Collecting osqp>=0.4.1\n",
      "  Using cached osqp-0.6.2.post9-cp310-cp310-manylinux_2_5_x86_64.manylinux1_x86_64.manylinux_2_17_x86_64.manylinux2014_x86_64.whl (298 kB)\n",
      "Collecting ecos>=2\n",
      "  Using cached ecos-2.0.12-cp310-cp310-manylinux_2_17_x86_64.manylinux2014_x86_64.whl (220 kB)\n",
      "Requirement already satisfied: scipy>=1.1.0 in /opt/conda/lib/python3.10/site-packages (from cvxpy) (1.9.3)\n",
      "Collecting setuptools>65.5.1\n",
      "  Using cached setuptools-67.7.1-py3-none-any.whl (1.1 MB)\n",
      "Requirement already satisfied: numpy>=1.15 in /opt/conda/lib/python3.10/site-packages (from cvxpy) (1.23.5)\n",
      "Collecting qdldl\n",
      "  Using cached qdldl-0.1.7-cp310-cp310-manylinux_2_17_x86_64.manylinux2014_x86_64.whl (1.0 MB)\n",
      "Installing collected packages: setuptools, scs, qdldl, ecos, osqp, cvxpy\n",
      "  Attempting uninstall: setuptools\n",
      "    Found existing installation: setuptools 65.5.1\n",
      "    Uninstalling setuptools-65.5.1:\n",
      "      Successfully uninstalled setuptools-65.5.1\n",
      "Successfully installed cvxpy-1.3.1 ecos-2.0.12 osqp-0.6.2.post9 qdldl-0.1.7 scs-3.2.3 setuptools-67.7.1\n"
     ]
    }
   ],
   "source": [
    "!pip install cvxpy"
   ]
  },
  {
   "cell_type": "code",
   "execution_count": 1,
   "id": "9dda9071-b5d3-4149-9aba-c6484363ba60",
   "metadata": {},
   "outputs": [
    {
     "name": "stdout",
     "output_type": "stream",
     "text": [
      "Defaulting to user installation because normal site-packages is not writeable\n",
      "Requirement already satisfied: opencv-python in c:\\users\\whitney\\appdata\\roaming\\python\\python36\\site-packages (3.4.2.17)\n",
      "Requirement already satisfied: numpy>=1.11.3 in c:\\programdata\\anaconda3\\envs\\hello-tf\\lib\\site-packages (from opencv-python) (1.19.2)\n"
     ]
    }
   ],
   "source": [
    "!pip install opencv-python"
   ]
  },
  {
   "cell_type": "code",
   "execution_count": 3,
   "id": "d3d140c9",
   "metadata": {},
   "outputs": [
    {
     "name": "stdout",
     "output_type": "stream",
     "text": [
      "Defaulting to user installation because normal site-packages is not writeable\n",
      "Collecting scikit-learn\n",
      "  Downloading scikit_learn-0.24.2-cp36-cp36m-win_amd64.whl (6.8 MB)\n",
      "Collecting scipy>=0.19.1\n",
      "  Using cached scipy-1.5.4-cp36-cp36m-win_amd64.whl (31.2 MB)\n",
      "Requirement already satisfied: numpy>=1.13.3 in c:\\programdata\\anaconda3\\envs\\hello-tf\\lib\\site-packages (from scikit-learn) (1.19.2)\n",
      "Collecting threadpoolctl>=2.0.0\n",
      "  Downloading threadpoolctl-3.1.0-py3-none-any.whl (14 kB)\n",
      "Collecting joblib>=0.11\n",
      "  Downloading joblib-1.1.1-py2.py3-none-any.whl (309 kB)\n",
      "Installing collected packages: threadpoolctl, scipy, joblib, scikit-learn\n",
      "Successfully installed joblib-1.1.1 scikit-learn-0.24.2 scipy-1.5.4 threadpoolctl-3.1.0\n"
     ]
    }
   ],
   "source": [
    "#for running on virtual env only \n",
    "!pip install -U scikit-learn"
   ]
  },
  {
   "cell_type": "code",
   "execution_count": 4,
   "id": "7f75c0d0-0b2f-42d0-8f2f-18dc0ae02feb",
   "metadata": {},
   "outputs": [],
   "source": [
    "#import cvxpy as cp\n",
    "import numpy as np\n",
    "import matplotlib.pyplot as plt\n",
    "import tensorflow as tf\n",
    "from tensorflow import keras\n",
    "from tensorflow.keras import layers\n",
    "import numpy as np\n",
    "import pandas as pd\n",
    "import cv2\n",
    "from sklearn.svm import SVC\n"
   ]
  },
  {
   "cell_type": "markdown",
   "id": "1540bb76-4aca-49f2-b46a-3b47bbb7873e",
   "metadata": {},
   "source": [
    "Dataset\n",
    "This is a dataset of 50,000 32x32 color training images and 10,000 test images, labeled over 10 categories. See more info at the CIFAR homepage.\n",
    "\n",
    "x_train: uint8 NumPy array of grayscale image data with shapes (50000, 32, 32, 3), containing the training data. Pixel values range from 0 to 255.\n",
    "\n",
    "y_train: uint8 NumPy array of labels (integers in range 0-9) with shape (50000, 1) for the training data.\n",
    "\n",
    "x_test: uint8 NumPy array of grayscale image data with shapes (10000, 32, 32, 3), containing the test data. Pixel values range from 0 to 255.\n",
    "\n",
    "y_test: uint8 NumPy array of labels (integers in range 0-9) with shape (10000, 1) for the test data.\n",
    "\n",
    "I used 10,000 training and 2,000 test because my "
   ]
  },
  {
   "cell_type": "code",
   "execution_count": 5,
   "id": "a5ffd4b1-28e7-4d0d-ad96-cf1e01ea17f2",
   "metadata": {},
   "outputs": [
    {
     "name": "stdout",
     "output_type": "stream",
     "text": [
      "Downloading data from https://www.cs.toronto.edu/~kriz/cifar-10-python.tar.gz\n",
      "170500096/170498071 [==============================] - 20s 0us/step\n",
      "170508288/170498071 [==============================] - 20s 0us/step\n"
     ]
    }
   ],
   "source": [
    "(x_train, y_train), (x_test, y_test) = keras.datasets.cifar10.load_data()\n",
    "x_train = np.array(list(x_train)[:10000])\n",
    "y_train = np.array(list(y_train)[:10000])\n",
    "x_test = np.array(list(x_test)[:2000])\n",
    "y_test = np.array(list(y_test)[:2000])\n",
    "assert x_train.shape == (10000, 32, 32, 3)\n",
    "assert x_test.shape == (2000, 32, 32, 3)\n"
   ]
  },
  {
   "cell_type": "code",
   "execution_count": 6,
   "id": "33f2ea70-348a-48a4-ae8a-68b231632b2d",
   "metadata": {},
   "outputs": [
    {
     "data": {
      "text/plain": [
       "(10000,)"
      ]
     },
     "execution_count": 6,
     "metadata": {},
     "output_type": "execute_result"
    }
   ],
   "source": [
    "y_train = np.ravel(y_train)\n",
    "y_test = np.ravel(y_test)\n",
    "y_train.shape"
   ]
  },
  {
   "cell_type": "code",
   "execution_count": 7,
   "id": "99e2e921-0f35-4487-b2fb-4110617820f0",
   "metadata": {},
   "outputs": [],
   "source": [
    "#I am taking an OpenCV course at the moment, so I am utilizing some of what I learned here.\n",
    "#histogram of gradients\n",
    "def computeHOG(hog, data):\n",
    "  hogData = []\n",
    "  for image in data:\n",
    "    hogFeatures = hog.compute(image)\n",
    "    hogData.append(hogFeatures)\n",
    "\n",
    "  return hogData\n",
    "\n",
    "# Initialize hog parameters\n",
    "winSize = (32, 32)\n",
    "blockSize = (8, 8)\n",
    "blockStride = (8, 8)\n",
    "cellSize = (4, 4)\n",
    "nbins = 9 # Sets the number of bins in the histogram of gradients. 9 captures gradients between 0 and 180 degrees\n",
    "derivAperture = 0 #size of sobel operator \n",
    "winSigma = 4.0\n",
    "histogramNormType = 1 #L2Hys is L2 normalization followed by a threshold\n",
    "L2HysThreshold = 2.0000000000000001e-01\n",
    "gammaCorrection = 1 #Boolean indicating whether or not Gamma correction should be done as a pre-processing step.\n",
    "nlevels = 64 #Number of pyramid levels used during detection\n",
    "\n",
    "hog = cv2.HOGDescriptor(winSize, blockSize, blockStride, cellSize, \n",
    "                      nbins,derivAperture, winSigma, \n",
    "                      histogramNormType,L2HysThreshold, \n",
    "                      gammaCorrection, nlevels, 1)"
   ]
  },
  {
   "cell_type": "code",
   "execution_count": 8,
   "id": "327e7010-6abf-49db-8005-8d3fff0cd60a",
   "metadata": {},
   "outputs": [],
   "source": [
    "def prepareData(data):\n",
    "  featureVectorLength = len(data[0])\n",
    "  features = np.float32(data).reshape(-1, featureVectorLength)\n",
    "  return features"
   ]
  },
  {
   "cell_type": "code",
   "execution_count": 9,
   "id": "a8b0363d-fb60-490e-9d42-0a913aee67ce",
   "metadata": {},
   "outputs": [],
   "source": [
    "### Feature computation for the training and testing data  ##\n",
    "trainHOG = computeHOG(hog, x_train)\n",
    "testHOG = computeHOG(hog, x_test)\n",
    "\n",
    "# Convert hog data into features recognized by SVM model\n",
    "trainFeatures = prepareData(trainHOG)\n",
    "testFeatures = prepareData(testHOG)"
   ]
  },
  {
   "cell_type": "code",
   "execution_count": 10,
   "id": "4cf07cbd-3805-4c27-bba3-f5b470997655",
   "metadata": {},
   "outputs": [
    {
     "data": {
      "text/plain": [
       "((10000, 576), (10000, 576), (576,), numpy.ndarray)"
      ]
     },
     "execution_count": 10,
     "metadata": {},
     "output_type": "execute_result"
    }
   ],
   "source": [
    "#Now, we have 10000 training vectors of length 576\n",
    "trainFeatures.shape, trainFeatures.shape, trainFeatures[0].shape, type(trainFeatures[0])"
   ]
  },
  {
   "cell_type": "code",
   "execution_count": 11,
   "id": "a1087964-981b-48dc-995f-066fce3c6f02",
   "metadata": {},
   "outputs": [],
   "source": [
    "from sklearn.svm import SVC\n",
    "classifier = SVC(C=1.0, kernel='linear')"
   ]
  },
  {
   "cell_type": "code",
   "execution_count": 12,
   "id": "9a9e5f75-b697-4be8-8d21-f1f709c6635b",
   "metadata": {},
   "outputs": [
    {
     "data": {
      "text/plain": [
       "SVC(kernel='linear')"
      ]
     },
     "execution_count": 12,
     "metadata": {},
     "output_type": "execute_result"
    }
   ],
   "source": [
    "classifier.fit(trainFeatures, y_train)"
   ]
  },
  {
   "cell_type": "code",
   "execution_count": 13,
   "id": "ccab6119-a411-4e6e-92cd-503b21324851",
   "metadata": {},
   "outputs": [],
   "source": [
    "test_accuracy = classifier.score(testFeatures, y_test)"
   ]
  },
  {
   "cell_type": "code",
   "execution_count": 14,
   "id": "fb0a2dbb-3378-4ba5-a4ea-4b40ac8c0ad9",
   "metadata": {},
   "outputs": [
    {
     "name": "stdout",
     "output_type": "stream",
     "text": [
      "test accuracy: 0.5185 training_accuracy: 0.7511\n"
     ]
    },
    {
     "data": {
      "image/png": "[encoded data removed]",
      "text/plain": [
       "<Figure size 432x288 with 1 Axes>"
      ]
     },
     "metadata": {
      "needs_background": "light"
     },
     "output_type": "display_data"
    }
   ],
   "source": [
    "training_accuracy = classifier.score(trainFeatures, y_train)\n",
    "test_accuracy = classifier.score(testFeatures, y_test)\n",
    "accuracy = [training_accuracy, test_accuracy]\n",
    "# creating the bar plot\n",
    "plt.bar(['training', 'test'], accuracy, color ='maroon',\n",
    "        width = 0.4)\n",
    "plt.ylabel(\"Accuracy between [0,1]\")\n",
    "plt.title(\"Accuracy on Model 1 (hog features, C=1, linear kernel)\")\n",
    "print(\"test accuracy:\", test_accuracy, \"training_accuracy:\", training_accuracy)"
   ]
  },
  {
   "cell_type": "code",
   "execution_count": 15,
   "id": "3311d95d-12af-4fff-8509-843ee4530f8d",
   "metadata": {},
   "outputs": [],
   "source": [
    "classifier2 = SVC(C=1.0, kernel='rbf')"
   ]
  },
  {
   "cell_type": "code",
   "execution_count": 16,
   "id": "e7d96d56-33d8-47e3-8a6b-a71fb480ca57",
   "metadata": {},
   "outputs": [
    {
     "data": {
      "text/plain": [
       "SVC()"
      ]
     },
     "execution_count": 16,
     "metadata": {},
     "output_type": "execute_result"
    }
   ],
   "source": [
    "classifier2.fit(trainFeatures, y_train)"
   ]
  },
  {
   "cell_type": "code",
   "execution_count": 17,
   "id": "3dac8dcb-cf7b-4ebf-8b10-7d7e83f79a2f",
   "metadata": {},
   "outputs": [
    {
     "data": {
      "text/plain": [
       "0.5875"
      ]
     },
     "execution_count": 17,
     "metadata": {},
     "output_type": "execute_result"
    }
   ],
   "source": [
    "test_accuracy2 = classifier2.score(testFeatures, y_test)\n",
    "test_accuracy2"
   ]
  },
  {
   "cell_type": "code",
   "execution_count": 18,
   "id": "298f313d-2498-47ce-89ef-16c1d6911059",
   "metadata": {},
   "outputs": [
    {
     "name": "stdout",
     "output_type": "stream",
     "text": [
      "test accuracy: 0.5875 training_accuracy: 0.9093\n"
     ]
    },
    {
     "data": {
      "image/png": "[encoded data removed]",
      "text/plain": [
       "<Figure size 432x288 with 1 Axes>"
      ]
     },
     "metadata": {
      "needs_background": "light"
     },
     "output_type": "display_data"
    }
   ],
   "source": [
    "training_accuracy2 = classifier2.score(trainFeatures, y_train)\n",
    "accuracy2 = [training_accuracy2, test_accuracy2]\n",
    "# creating the bar plot\n",
    "plt.bar(['training', 'test'], accuracy2, color ='green',\n",
    "        width = 0.4)\n",
    "plt.ylabel(\"Accuracy between [0,1]\")\n",
    "plt.title(\"Accuracy on Model 2 (hog features, C=1, rbf kernel)\")\n",
    "print(\"test accuracy:\", test_accuracy2, \"training_accuracy:\", training_accuracy2)"
   ]
  },
  {
   "cell_type": "code",
   "execution_count": 19,
   "id": "1e25b554-27a1-4d0b-b0bd-ccfc32364e01",
   "metadata": {},
   "outputs": [],
   "source": [
    "classifier3 = SVC(C=50.0, kernel='rbf')"
   ]
  },
  {
   "cell_type": "code",
   "execution_count": 20,
   "id": "390279dc-faff-40d9-a12b-cbee7a0ae7d7",
   "metadata": {},
   "outputs": [
    {
     "data": {
      "text/plain": [
       "SVC(C=50.0)"
      ]
     },
     "execution_count": 20,
     "metadata": {},
     "output_type": "execute_result"
    }
   ],
   "source": [
    "classifier3.fit(trainFeatures, y_train)"
   ]
  },
  {
   "cell_type": "code",
   "execution_count": 21,
   "id": "2c91ebff-982f-4684-afdb-406b1b373a62",
   "metadata": {},
   "outputs": [
    {
     "data": {
      "text/plain": [
       "0.6065"
      ]
     },
     "execution_count": 21,
     "metadata": {},
     "output_type": "execute_result"
    }
   ],
   "source": [
    "test_accuracy3 = classifier3.score(testFeatures, y_test)\n",
    "test_accuracy3"
   ]
  },
  {
   "cell_type": "code",
   "execution_count": 22,
   "id": "27eb755f-2336-487d-a50c-cc0aa17da802",
   "metadata": {},
   "outputs": [
    {
     "name": "stdout",
     "output_type": "stream",
     "text": [
      "test accuracy: 0.6065 training_accuracy: 1.0\n"
     ]
    },
    {
     "data": {
      "image/png": "[encoded data removed]",
      "text/plain": [
       "<Figure size 432x288 with 1 Axes>"
      ]
     },
     "metadata": {
      "needs_background": "light"
     },
     "output_type": "display_data"
    }
   ],
   "source": [
    "training_accuracy3 = classifier3.score(trainFeatures, y_train)\n",
    "accuracy3 = [training_accuracy3, test_accuracy3]\n",
    "# creating the bar plot\n",
    "plt.bar(['training', 'test'], accuracy3, color ='blue',\n",
    "        width = 0.4)\n",
    "plt.ylabel(\"Accuracy between [0,1]\")\n",
    "plt.title(\"Accuracy on Model 3 (hog features, C=50, rbf kernel)\")\n",
    "print(\"test accuracy:\", test_accuracy3, \"training_accuracy:\", training_accuracy3)"
   ]
  },
  {
   "cell_type": "code",
   "execution_count": 23,
   "id": "781d4b3a-8672-441c-b275-52b47df6a35f",
   "metadata": {},
   "outputs": [],
   "source": [
    "training_target_vectors = tf.one_hot(y_train, depth=10)\n",
    "testing_target_vectors = tf.one_hot(y_test, depth=10)"
   ]
  },
  {
   "cell_type": "code",
   "execution_count": 24,
   "id": "8decf3b3-0e66-4b1c-8ace-caac764476cd",
   "metadata": {},
   "outputs": [
    {
     "name": "stdout",
     "output_type": "stream",
     "text": [
      "Epoch 1/200\n",
      "1000/1000 [==============================] - 1s 496us/step - loss: 2.3189 - categorical_accuracy: 0.1123 - val_loss: 2.2844 - val_categorical_accuracy: 0.1300\n",
      "Epoch 2/200\n",
      "1000/1000 [==============================] - 0s 399us/step - loss: 2.2733 - categorical_accuracy: 0.1641 - val_loss: 2.2599 - val_categorical_accuracy: 0.1900\n",
      "Epoch 3/200\n",
      "1000/1000 [==============================] - 0s 394us/step - loss: 2.2453 - categorical_accuracy: 0.1954 - val_loss: 2.2291 - val_categorical_accuracy: 0.1970\n",
      "Epoch 4/200\n",
      "1000/1000 [==============================] - 0s 391us/step - loss: 2.2113 - categorical_accuracy: 0.2258 - val_loss: 2.1915 - val_categorical_accuracy: 0.2355\n",
      "Epoch 5/200\n",
      "1000/1000 [==============================] - 0s 398us/step - loss: 2.1711 - categorical_accuracy: 0.2489 - val_loss: 2.1479 - val_categorical_accuracy: 0.2460\n",
      "Epoch 6/200\n",
      "1000/1000 [==============================] - 0s 402us/step - loss: 2.1258 - categorical_accuracy: 0.2667 - val_loss: 2.1029 - val_categorical_accuracy: 0.2895\n",
      "Epoch 7/200\n",
      "1000/1000 [==============================] - 0s 397us/step - loss: 2.0812 - categorical_accuracy: 0.2911 - val_loss: 2.0596 - val_categorical_accuracy: 0.2900\n",
      "Epoch 8/200\n",
      "1000/1000 [==============================] - 0s 391us/step - loss: 2.0385 - categorical_accuracy: 0.3012 - val_loss: 2.0169 - val_categorical_accuracy: 0.3200\n",
      "Epoch 9/200\n",
      "1000/1000 [==============================] - 0s 392us/step - loss: 1.9986 - categorical_accuracy: 0.3165 - val_loss: 1.9803 - val_categorical_accuracy: 0.3260\n",
      "Epoch 10/200\n",
      "1000/1000 [==============================] - 0s 390us/step - loss: 1.9634 - categorical_accuracy: 0.3258 - val_loss: 1.9464 - val_categorical_accuracy: 0.3345\n",
      "Epoch 11/200\n",
      "1000/1000 [==============================] - 0s 393us/step - loss: 1.9311 - categorical_accuracy: 0.3385 - val_loss: 1.9158 - val_categorical_accuracy: 0.3400\n",
      "Epoch 12/200\n",
      "1000/1000 [==============================] - 0s 391us/step - loss: 1.9017 - categorical_accuracy: 0.3476 - val_loss: 1.8885 - val_categorical_accuracy: 0.3470\n",
      "Epoch 13/200\n",
      "1000/1000 [==============================] - 0s 389us/step - loss: 1.8736 - categorical_accuracy: 0.3602 - val_loss: 1.8666 - val_categorical_accuracy: 0.3350\n",
      "Epoch 14/200\n",
      "1000/1000 [==============================] - 0s 395us/step - loss: 1.8486 - categorical_accuracy: 0.3589 - val_loss: 1.8412 - val_categorical_accuracy: 0.3705\n",
      "Epoch 15/200\n",
      "1000/1000 [==============================] - 0s 394us/step - loss: 1.8246 - categorical_accuracy: 0.3754 - val_loss: 1.8172 - val_categorical_accuracy: 0.3925\n",
      "Epoch 16/200\n",
      "1000/1000 [==============================] - 0s 395us/step - loss: 1.8022 - categorical_accuracy: 0.3772 - val_loss: 1.7950 - val_categorical_accuracy: 0.3995\n",
      "Epoch 17/200\n",
      "1000/1000 [==============================] - 0s 396us/step - loss: 1.7806 - categorical_accuracy: 0.3830 - val_loss: 1.7764 - val_categorical_accuracy: 0.3945\n",
      "Epoch 18/200\n",
      "1000/1000 [==============================] - 0s 393us/step - loss: 1.7606 - categorical_accuracy: 0.3942 - val_loss: 1.7574 - val_categorical_accuracy: 0.4060\n",
      "Epoch 19/200\n",
      "1000/1000 [==============================] - 0s 393us/step - loss: 1.7407 - categorical_accuracy: 0.3987 - val_loss: 1.7414 - val_categorical_accuracy: 0.4000\n",
      "Epoch 20/200\n",
      "1000/1000 [==============================] - 0s 389us/step - loss: 1.7226 - categorical_accuracy: 0.4053 - val_loss: 1.7236 - val_categorical_accuracy: 0.4150\n",
      "Epoch 21/200\n",
      "1000/1000 [==============================] - 0s 392us/step - loss: 1.7048 - categorical_accuracy: 0.4106 - val_loss: 1.7098 - val_categorical_accuracy: 0.4110\n",
      "Epoch 22/200\n",
      "1000/1000 [==============================] - 0s 394us/step - loss: 1.6880 - categorical_accuracy: 0.4162 - val_loss: 1.6955 - val_categorical_accuracy: 0.4060\n",
      "Epoch 23/200\n",
      "1000/1000 [==============================] - 0s 390us/step - loss: 1.6717 - categorical_accuracy: 0.4229 - val_loss: 1.6794 - val_categorical_accuracy: 0.4175\n",
      "Epoch 24/200\n",
      "1000/1000 [==============================] - 0s 392us/step - loss: 1.6564 - categorical_accuracy: 0.4278 - val_loss: 1.6669 - val_categorical_accuracy: 0.4240\n",
      "Epoch 25/200\n",
      "1000/1000 [==============================] - 0s 389us/step - loss: 1.6412 - categorical_accuracy: 0.4299 - val_loss: 1.6566 - val_categorical_accuracy: 0.4300\n",
      "Epoch 26/200\n",
      "1000/1000 [==============================] - 0s 394us/step - loss: 1.6275 - categorical_accuracy: 0.4372 - val_loss: 1.6418 - val_categorical_accuracy: 0.4295\n",
      "Epoch 27/200\n",
      "1000/1000 [==============================] - 0s 414us/step - loss: 1.6139 - categorical_accuracy: 0.4411 - val_loss: 1.6310 - val_categorical_accuracy: 0.4340\n",
      "Epoch 28/200\n",
      "1000/1000 [==============================] - 0s 391us/step - loss: 1.6002 - categorical_accuracy: 0.4496 - val_loss: 1.6217 - val_categorical_accuracy: 0.4370\n",
      "Epoch 29/200\n",
      "1000/1000 [==============================] - 0s 392us/step - loss: 1.5877 - categorical_accuracy: 0.4549 - val_loss: 1.6097 - val_categorical_accuracy: 0.4410\n",
      "Epoch 30/200\n",
      "1000/1000 [==============================] - 0s 391us/step - loss: 1.5756 - categorical_accuracy: 0.4556 - val_loss: 1.6002 - val_categorical_accuracy: 0.4365\n",
      "Epoch 31/200\n",
      "1000/1000 [==============================] - 0s 410us/step - loss: 1.5641 - categorical_accuracy: 0.4621 - val_loss: 1.5924 - val_categorical_accuracy: 0.4470\n",
      "Epoch 32/200\n",
      "1000/1000 [==============================] - 0s 393us/step - loss: 1.5527 - categorical_accuracy: 0.4646 - val_loss: 1.5815 - val_categorical_accuracy: 0.4510\n",
      "Epoch 33/200\n",
      "1000/1000 [==============================] - 0s 390us/step - loss: 1.5414 - categorical_accuracy: 0.4689 - val_loss: 1.5726 - val_categorical_accuracy: 0.4540\n",
      "Epoch 34/200\n",
      "1000/1000 [==============================] - 0s 389us/step - loss: 1.5309 - categorical_accuracy: 0.4714 - val_loss: 1.5633 - val_categorical_accuracy: 0.4620\n",
      "Epoch 35/200\n",
      "1000/1000 [==============================] - 0s 393us/step - loss: 1.5203 - categorical_accuracy: 0.4795 - val_loss: 1.5607 - val_categorical_accuracy: 0.4645\n",
      "Epoch 36/200\n",
      "1000/1000 [==============================] - 0s 391us/step - loss: 1.5109 - categorical_accuracy: 0.4821 - val_loss: 1.5474 - val_categorical_accuracy: 0.4670\n",
      "Epoch 37/200\n",
      "1000/1000 [==============================] - 0s 393us/step - loss: 1.5011 - categorical_accuracy: 0.4823 - val_loss: 1.5405 - val_categorical_accuracy: 0.4680\n",
      "Epoch 38/200\n",
      "1000/1000 [==============================] - 0s 395us/step - loss: 1.4917 - categorical_accuracy: 0.4886 - val_loss: 1.5328 - val_categorical_accuracy: 0.4710\n",
      "Epoch 39/200\n",
      "1000/1000 [==============================] - 0s 391us/step - loss: 1.4825 - categorical_accuracy: 0.4906 - val_loss: 1.5261 - val_categorical_accuracy: 0.4710\n",
      "Epoch 40/200\n",
      "1000/1000 [==============================] - 0s 391us/step - loss: 1.4729 - categorical_accuracy: 0.4956 - val_loss: 1.5206 - val_categorical_accuracy: 0.4660\n",
      "Epoch 41/200\n",
      "1000/1000 [==============================] - 0s 392us/step - loss: 1.4640 - categorical_accuracy: 0.4969 - val_loss: 1.5124 - val_categorical_accuracy: 0.4830\n",
      "Epoch 42/200\n",
      "1000/1000 [==============================] - 0s 391us/step - loss: 1.4559 - categorical_accuracy: 0.4983 - val_loss: 1.5065 - val_categorical_accuracy: 0.4855\n",
      "Epoch 43/200\n",
      "1000/1000 [==============================] - 0s 391us/step - loss: 1.4480 - categorical_accuracy: 0.5037 - val_loss: 1.5002 - val_categorical_accuracy: 0.4820\n",
      "Epoch 44/200\n",
      "1000/1000 [==============================] - 0s 391us/step - loss: 1.4399 - categorical_accuracy: 0.5073 - val_loss: 1.4955 - val_categorical_accuracy: 0.4830\n",
      "Epoch 45/200\n",
      "1000/1000 [==============================] - 0s 400us/step - loss: 1.4318 - categorical_accuracy: 0.5080 - val_loss: 1.4903 - val_categorical_accuracy: 0.4835\n",
      "Epoch 46/200\n",
      "1000/1000 [==============================] - 0s 391us/step - loss: 1.4241 - categorical_accuracy: 0.5107 - val_loss: 1.4849 - val_categorical_accuracy: 0.4885\n",
      "Epoch 47/200\n",
      "1000/1000 [==============================] - 0s 392us/step - loss: 1.4169 - categorical_accuracy: 0.5150 - val_loss: 1.4774 - val_categorical_accuracy: 0.4895\n",
      "Epoch 48/200\n",
      "1000/1000 [==============================] - 0s 389us/step - loss: 1.4090 - categorical_accuracy: 0.5187 - val_loss: 1.4744 - val_categorical_accuracy: 0.4855\n"
     ]
    },
    {
     "name": "stdout",
     "output_type": "stream",
     "text": [
      "Epoch 49/200\n",
      "1000/1000 [==============================] - 0s 393us/step - loss: 1.4019 - categorical_accuracy: 0.5211 - val_loss: 1.4688 - val_categorical_accuracy: 0.4910\n",
      "Epoch 50/200\n",
      "1000/1000 [==============================] - 0s 394us/step - loss: 1.3946 - categorical_accuracy: 0.5241 - val_loss: 1.4655 - val_categorical_accuracy: 0.4895\n",
      "Epoch 51/200\n",
      "1000/1000 [==============================] - 0s 386us/step - loss: 1.3877 - categorical_accuracy: 0.5282 - val_loss: 1.4606 - val_categorical_accuracy: 0.4950\n",
      "Epoch 52/200\n",
      "1000/1000 [==============================] - 0s 392us/step - loss: 1.3815 - categorical_accuracy: 0.5288 - val_loss: 1.4540 - val_categorical_accuracy: 0.4925\n",
      "Epoch 53/200\n",
      "1000/1000 [==============================] - 0s 388us/step - loss: 1.3743 - categorical_accuracy: 0.5285 - val_loss: 1.4495 - val_categorical_accuracy: 0.4915\n",
      "Epoch 54/200\n",
      "1000/1000 [==============================] - 0s 390us/step - loss: 1.3683 - categorical_accuracy: 0.5331 - val_loss: 1.4460 - val_categorical_accuracy: 0.4945\n",
      "Epoch 55/200\n",
      "1000/1000 [==============================] - 0s 393us/step - loss: 1.3616 - categorical_accuracy: 0.5374 - val_loss: 1.4434 - val_categorical_accuracy: 0.4945\n",
      "Epoch 56/200\n",
      "1000/1000 [==============================] - 0s 391us/step - loss: 1.3558 - categorical_accuracy: 0.5374 - val_loss: 1.4366 - val_categorical_accuracy: 0.4925\n",
      "Epoch 57/200\n",
      "1000/1000 [==============================] - 0s 390us/step - loss: 1.3493 - categorical_accuracy: 0.5405 - val_loss: 1.4363 - val_categorical_accuracy: 0.4995\n",
      "Epoch 58/200\n",
      "1000/1000 [==============================] - 0s 389us/step - loss: 1.3439 - categorical_accuracy: 0.5416 - val_loss: 1.4313 - val_categorical_accuracy: 0.4980\n",
      "Epoch 59/200\n",
      "1000/1000 [==============================] - 0s 391us/step - loss: 1.3376 - categorical_accuracy: 0.5415 - val_loss: 1.4277 - val_categorical_accuracy: 0.4995\n",
      "Epoch 60/200\n",
      "1000/1000 [==============================] - 0s 392us/step - loss: 1.3315 - categorical_accuracy: 0.5448 - val_loss: 1.4233 - val_categorical_accuracy: 0.5025\n",
      "Epoch 61/200\n",
      "1000/1000 [==============================] - 0s 391us/step - loss: 1.3261 - categorical_accuracy: 0.5501 - val_loss: 1.4202 - val_categorical_accuracy: 0.5015\n",
      "Epoch 62/200\n",
      "1000/1000 [==============================] - 0s 395us/step - loss: 1.3206 - categorical_accuracy: 0.5483 - val_loss: 1.4181 - val_categorical_accuracy: 0.5045\n",
      "Epoch 63/200\n",
      "1000/1000 [==============================] - 0s 388us/step - loss: 1.3152 - categorical_accuracy: 0.5529 - val_loss: 1.4131 - val_categorical_accuracy: 0.5060\n",
      "Epoch 64/200\n",
      "1000/1000 [==============================] - 0s 390us/step - loss: 1.3090 - categorical_accuracy: 0.5530 - val_loss: 1.4116 - val_categorical_accuracy: 0.5065\n",
      "Epoch 65/200\n",
      "1000/1000 [==============================] - 0s 391us/step - loss: 1.3046 - categorical_accuracy: 0.5594 - val_loss: 1.4086 - val_categorical_accuracy: 0.5030\n",
      "Epoch 66/200\n",
      "1000/1000 [==============================] - 0s 389us/step - loss: 1.2994 - categorical_accuracy: 0.5603 - val_loss: 1.4081 - val_categorical_accuracy: 0.5025\n",
      "Epoch 67/200\n",
      "1000/1000 [==============================] - 0s 392us/step - loss: 1.2946 - categorical_accuracy: 0.5602 - val_loss: 1.4017 - val_categorical_accuracy: 0.5135\n",
      "Epoch 68/200\n",
      "1000/1000 [==============================] - 0s 389us/step - loss: 1.2896 - categorical_accuracy: 0.5619 - val_loss: 1.3996 - val_categorical_accuracy: 0.5105\n",
      "Epoch 69/200\n",
      "1000/1000 [==============================] - 0s 392us/step - loss: 1.2853 - categorical_accuracy: 0.5617 - val_loss: 1.3959 - val_categorical_accuracy: 0.5110\n",
      "Epoch 70/200\n",
      "1000/1000 [==============================] - 0s 395us/step - loss: 1.2807 - categorical_accuracy: 0.5631 - val_loss: 1.3941 - val_categorical_accuracy: 0.5160\n",
      "Epoch 71/200\n",
      "1000/1000 [==============================] - 0s 386us/step - loss: 1.2750 - categorical_accuracy: 0.5683 - val_loss: 1.3954 - val_categorical_accuracy: 0.5150\n",
      "Epoch 72/200\n",
      "1000/1000 [==============================] - 0s 391us/step - loss: 1.2702 - categorical_accuracy: 0.5662 - val_loss: 1.3915 - val_categorical_accuracy: 0.5170\n",
      "Epoch 73/200\n",
      "1000/1000 [==============================] - 0s 388us/step - loss: 1.2665 - categorical_accuracy: 0.5729 - val_loss: 1.3914 - val_categorical_accuracy: 0.5065\n",
      "Epoch 74/200\n",
      "1000/1000 [==============================] - 0s 389us/step - loss: 1.2626 - categorical_accuracy: 0.5712 - val_loss: 1.3871 - val_categorical_accuracy: 0.5105\n",
      "Epoch 75/200\n",
      "1000/1000 [==============================] - 0s 392us/step - loss: 1.2580 - categorical_accuracy: 0.5765 - val_loss: 1.3840 - val_categorical_accuracy: 0.5145\n",
      "Epoch 76/200\n",
      "1000/1000 [==============================] - 0s 389us/step - loss: 1.2542 - categorical_accuracy: 0.5740 - val_loss: 1.3809 - val_categorical_accuracy: 0.5185\n",
      "Epoch 77/200\n",
      "1000/1000 [==============================] - 0s 391us/step - loss: 1.2492 - categorical_accuracy: 0.5775 - val_loss: 1.3813 - val_categorical_accuracy: 0.5165\n",
      "Epoch 78/200\n",
      "1000/1000 [==============================] - 0s 392us/step - loss: 1.2457 - categorical_accuracy: 0.5791 - val_loss: 1.3794 - val_categorical_accuracy: 0.5185\n",
      "Epoch 79/200\n",
      "1000/1000 [==============================] - 0s 394us/step - loss: 1.2418 - categorical_accuracy: 0.5799 - val_loss: 1.3769 - val_categorical_accuracy: 0.5240\n",
      "Epoch 80/200\n",
      "1000/1000 [==============================] - 0s 390us/step - loss: 1.2374 - categorical_accuracy: 0.5838 - val_loss: 1.3775 - val_categorical_accuracy: 0.5165\n",
      "Epoch 81/200\n",
      "1000/1000 [==============================] - 0s 389us/step - loss: 1.2339 - categorical_accuracy: 0.5821 - val_loss: 1.3742 - val_categorical_accuracy: 0.5215\n",
      "Epoch 82/200\n",
      "1000/1000 [==============================] - 0s 391us/step - loss: 1.2298 - categorical_accuracy: 0.5843 - val_loss: 1.3749 - val_categorical_accuracy: 0.5180\n",
      "Epoch 83/200\n",
      "1000/1000 [==============================] - 0s 393us/step - loss: 1.2271 - categorical_accuracy: 0.5847 - val_loss: 1.3705 - val_categorical_accuracy: 0.5195\n",
      "Epoch 84/200\n",
      "1000/1000 [==============================] - 0s 388us/step - loss: 1.2228 - categorical_accuracy: 0.5870 - val_loss: 1.3707 - val_categorical_accuracy: 0.5180\n",
      "Epoch 85/200\n",
      "1000/1000 [==============================] - 0s 392us/step - loss: 1.2194 - categorical_accuracy: 0.5879 - val_loss: 1.3689 - val_categorical_accuracy: 0.5185\n",
      "Epoch 86/200\n",
      "1000/1000 [==============================] - 0s 394us/step - loss: 1.2167 - categorical_accuracy: 0.5881 - val_loss: 1.3662 - val_categorical_accuracy: 0.5230\n",
      "Epoch 87/200\n",
      "1000/1000 [==============================] - 0s 392us/step - loss: 1.2119 - categorical_accuracy: 0.5900 - val_loss: 1.3646 - val_categorical_accuracy: 0.5190\n",
      "Epoch 88/200\n",
      "1000/1000 [==============================] - 0s 392us/step - loss: 1.2089 - categorical_accuracy: 0.5896 - val_loss: 1.3646 - val_categorical_accuracy: 0.5185\n",
      "Epoch 89/200\n",
      "1000/1000 [==============================] - 0s 390us/step - loss: 1.2055 - categorical_accuracy: 0.5930 - val_loss: 1.3662 - val_categorical_accuracy: 0.5155\n",
      "Epoch 90/200\n",
      "1000/1000 [==============================] - 0s 389us/step - loss: 1.2026 - categorical_accuracy: 0.5925 - val_loss: 1.3633 - val_categorical_accuracy: 0.5195\n",
      "Epoch 91/200\n",
      "1000/1000 [==============================] - 0s 387us/step - loss: 1.1990 - categorical_accuracy: 0.5966 - val_loss: 1.3611 - val_categorical_accuracy: 0.5210\n",
      "Epoch 92/200\n",
      "1000/1000 [==============================] - 0s 393us/step - loss: 1.1963 - categorical_accuracy: 0.5986 - val_loss: 1.3590 - val_categorical_accuracy: 0.5200\n",
      "Epoch 93/200\n",
      "1000/1000 [==============================] - 0s 391us/step - loss: 1.1929 - categorical_accuracy: 0.5970 - val_loss: 1.3609 - val_categorical_accuracy: 0.5240\n",
      "Epoch 94/200\n",
      "1000/1000 [==============================] - 0s 391us/step - loss: 1.1903 - categorical_accuracy: 0.5990 - val_loss: 1.3604 - val_categorical_accuracy: 0.5225\n",
      "Epoch 95/200\n",
      "1000/1000 [==============================] - 0s 389us/step - loss: 1.1874 - categorical_accuracy: 0.6016 - val_loss: 1.3589 - val_categorical_accuracy: 0.5250\n",
      "Epoch 96/200\n"
     ]
    },
    {
     "name": "stdout",
     "output_type": "stream",
     "text": [
      "1000/1000 [==============================] - 0s 392us/step - loss: 1.1841 - categorical_accuracy: 0.5980 - val_loss: 1.3593 - val_categorical_accuracy: 0.5195\n",
      "Epoch 97/200\n",
      "1000/1000 [==============================] - 0s 389us/step - loss: 1.1809 - categorical_accuracy: 0.6028 - val_loss: 1.3580 - val_categorical_accuracy: 0.5235\n",
      "Epoch 98/200\n",
      "1000/1000 [==============================] - 0s 390us/step - loss: 1.1786 - categorical_accuracy: 0.6019 - val_loss: 1.3538 - val_categorical_accuracy: 0.5265\n",
      "Epoch 99/200\n",
      "1000/1000 [==============================] - 0s 391us/step - loss: 1.1750 - categorical_accuracy: 0.6028 - val_loss: 1.3544 - val_categorical_accuracy: 0.5235\n",
      "Epoch 100/200\n",
      "1000/1000 [==============================] - 0s 391us/step - loss: 1.1726 - categorical_accuracy: 0.6066 - val_loss: 1.3533 - val_categorical_accuracy: 0.5175\n",
      "Epoch 101/200\n",
      "1000/1000 [==============================] - 0s 391us/step - loss: 1.1696 - categorical_accuracy: 0.6077 - val_loss: 1.3573 - val_categorical_accuracy: 0.5265\n",
      "Epoch 102/200\n",
      "1000/1000 [==============================] - 0s 392us/step - loss: 1.1673 - categorical_accuracy: 0.6081 - val_loss: 1.3557 - val_categorical_accuracy: 0.5225\n",
      "Epoch 103/200\n",
      "1000/1000 [==============================] - 0s 388us/step - loss: 1.1642 - categorical_accuracy: 0.6073 - val_loss: 1.3557 - val_categorical_accuracy: 0.5240\n",
      "Epoch 104/200\n",
      "1000/1000 [==============================] - 0s 388us/step - loss: 1.1622 - categorical_accuracy: 0.6071 - val_loss: 1.3533 - val_categorical_accuracy: 0.5235\n",
      "Epoch 105/200\n",
      "1000/1000 [==============================] - 0s 390us/step - loss: 1.1588 - categorical_accuracy: 0.6104 - val_loss: 1.3525 - val_categorical_accuracy: 0.5245\n",
      "Epoch 106/200\n",
      "1000/1000 [==============================] - 0s 393us/step - loss: 1.1564 - categorical_accuracy: 0.6100 - val_loss: 1.3549 - val_categorical_accuracy: 0.5220\n",
      "Epoch 107/200\n",
      "1000/1000 [==============================] - 0s 390us/step - loss: 1.1540 - categorical_accuracy: 0.6087 - val_loss: 1.3510 - val_categorical_accuracy: 0.5230\n",
      "Epoch 108/200\n",
      "1000/1000 [==============================] - 0s 391us/step - loss: 1.1526 - categorical_accuracy: 0.6138 - val_loss: 1.3504 - val_categorical_accuracy: 0.5240\n",
      "Epoch 109/200\n",
      "1000/1000 [==============================] - 0s 397us/step - loss: 1.1503 - categorical_accuracy: 0.6138 - val_loss: 1.3493 - val_categorical_accuracy: 0.5290\n",
      "Epoch 110/200\n",
      "1000/1000 [==============================] - 0s 392us/step - loss: 1.1471 - categorical_accuracy: 0.6141 - val_loss: 1.3491 - val_categorical_accuracy: 0.5235\n",
      "Epoch 111/200\n",
      "1000/1000 [==============================] - 0s 390us/step - loss: 1.1447 - categorical_accuracy: 0.6144 - val_loss: 1.3494 - val_categorical_accuracy: 0.5260\n",
      "Epoch 112/200\n",
      "1000/1000 [==============================] - 0s 387us/step - loss: 1.1425 - categorical_accuracy: 0.6152 - val_loss: 1.3499 - val_categorical_accuracy: 0.5215\n",
      "Epoch 113/200\n",
      "1000/1000 [==============================] - 0s 387us/step - loss: 1.1404 - categorical_accuracy: 0.6141 - val_loss: 1.3481 - val_categorical_accuracy: 0.5255\n",
      "Epoch 114/200\n",
      "1000/1000 [==============================] - 0s 388us/step - loss: 1.1377 - categorical_accuracy: 0.6151 - val_loss: 1.3560 - val_categorical_accuracy: 0.5250\n",
      "Epoch 115/200\n",
      "1000/1000 [==============================] - 0s 389us/step - loss: 1.1352 - categorical_accuracy: 0.6200 - val_loss: 1.3484 - val_categorical_accuracy: 0.5245\n",
      "Epoch 116/200\n",
      "1000/1000 [==============================] - 0s 394us/step - loss: 1.1338 - categorical_accuracy: 0.6213 - val_loss: 1.3479 - val_categorical_accuracy: 0.5270\n",
      "Epoch 117/200\n",
      "1000/1000 [==============================] - 0s 393us/step - loss: 1.1317 - categorical_accuracy: 0.6193 - val_loss: 1.3469 - val_categorical_accuracy: 0.5245\n",
      "Epoch 118/200\n",
      "1000/1000 [==============================] - 0s 391us/step - loss: 1.1294 - categorical_accuracy: 0.6195 - val_loss: 1.3482 - val_categorical_accuracy: 0.5270\n",
      "Epoch 119/200\n",
      "1000/1000 [==============================] - 0s 389us/step - loss: 1.1270 - categorical_accuracy: 0.6234 - val_loss: 1.3496 - val_categorical_accuracy: 0.5275\n",
      "Epoch 120/200\n",
      "1000/1000 [==============================] - 0s 386us/step - loss: 1.1253 - categorical_accuracy: 0.6202 - val_loss: 1.3456 - val_categorical_accuracy: 0.5260\n",
      "Epoch 121/200\n",
      "1000/1000 [==============================] - 0s 390us/step - loss: 1.1235 - categorical_accuracy: 0.6233 - val_loss: 1.3474 - val_categorical_accuracy: 0.5230\n",
      "Epoch 122/200\n",
      "1000/1000 [==============================] - 0s 391us/step - loss: 1.1211 - categorical_accuracy: 0.6270 - val_loss: 1.3459 - val_categorical_accuracy: 0.5275\n",
      "Epoch 123/200\n",
      "1000/1000 [==============================] - 0s 392us/step - loss: 1.1190 - categorical_accuracy: 0.6243 - val_loss: 1.3489 - val_categorical_accuracy: 0.5320\n",
      "Epoch 124/200\n",
      "1000/1000 [==============================] - 0s 392us/step - loss: 1.1172 - categorical_accuracy: 0.6249 - val_loss: 1.3462 - val_categorical_accuracy: 0.5290\n",
      "Epoch 125/200\n",
      "1000/1000 [==============================] - 0s 396us/step - loss: 1.1149 - categorical_accuracy: 0.6271 - val_loss: 1.3468 - val_categorical_accuracy: 0.5295\n",
      "Epoch 126/200\n",
      "1000/1000 [==============================] - 0s 390us/step - loss: 1.1135 - categorical_accuracy: 0.6277 - val_loss: 1.3476 - val_categorical_accuracy: 0.5250\n",
      "Epoch 127/200\n",
      "1000/1000 [==============================] - 0s 391us/step - loss: 1.1107 - categorical_accuracy: 0.6263 - val_loss: 1.3468 - val_categorical_accuracy: 0.5285\n",
      "Epoch 128/200\n",
      "1000/1000 [==============================] - 0s 391us/step - loss: 1.1088 - categorical_accuracy: 0.6302 - val_loss: 1.3507 - val_categorical_accuracy: 0.5260\n",
      "Epoch 129/200\n",
      "1000/1000 [==============================] - 0s 392us/step - loss: 1.1081 - categorical_accuracy: 0.6294 - val_loss: 1.3492 - val_categorical_accuracy: 0.5305\n",
      "Epoch 130/200\n",
      "1000/1000 [==============================] - 0s 393us/step - loss: 1.1056 - categorical_accuracy: 0.6296 - val_loss: 1.3477 - val_categorical_accuracy: 0.5325\n",
      "Epoch 131/200\n",
      "1000/1000 [==============================] - 0s 400us/step - loss: 1.1038 - categorical_accuracy: 0.6295 - val_loss: 1.3490 - val_categorical_accuracy: 0.5275\n",
      "Epoch 132/200\n",
      "1000/1000 [==============================] - 0s 397us/step - loss: 1.1018 - categorical_accuracy: 0.6313 - val_loss: 1.3476 - val_categorical_accuracy: 0.5305\n",
      "Epoch 133/200\n",
      "1000/1000 [==============================] - 0s 390us/step - loss: 1.1006 - categorical_accuracy: 0.6294 - val_loss: 1.3503 - val_categorical_accuracy: 0.5325\n",
      "Epoch 134/200\n",
      "1000/1000 [==============================] - 0s 395us/step - loss: 1.0985 - categorical_accuracy: 0.6321 - val_loss: 1.3492 - val_categorical_accuracy: 0.5325\n",
      "Epoch 135/200\n",
      "1000/1000 [==============================] - 0s 393us/step - loss: 1.0968 - categorical_accuracy: 0.6309 - val_loss: 1.3493 - val_categorical_accuracy: 0.5350\n",
      "Epoch 136/200\n",
      "1000/1000 [==============================] - 0s 392us/step - loss: 1.0949 - categorical_accuracy: 0.6331 - val_loss: 1.3506 - val_categorical_accuracy: 0.5335\n",
      "Epoch 137/200\n",
      "1000/1000 [==============================] - 0s 391us/step - loss: 1.0935 - categorical_accuracy: 0.6344 - val_loss: 1.3476 - val_categorical_accuracy: 0.5350\n",
      "Epoch 138/200\n",
      "1000/1000 [==============================] - 0s 392us/step - loss: 1.0913 - categorical_accuracy: 0.6318 - val_loss: 1.3493 - val_categorical_accuracy: 0.5300\n",
      "Epoch 139/200\n",
      "1000/1000 [==============================] - 0s 414us/step - loss: 1.0903 - categorical_accuracy: 0.6356 - val_loss: 1.3520 - val_categorical_accuracy: 0.5350\n",
      "Epoch 140/200\n",
      "1000/1000 [==============================] - 0s 399us/step - loss: 1.0886 - categorical_accuracy: 0.6336 - val_loss: 1.3495 - val_categorical_accuracy: 0.5345\n",
      "Epoch 141/200\n",
      "1000/1000 [==============================] - 0s 399us/step - loss: 1.0865 - categorical_accuracy: 0.6346 - val_loss: 1.3493 - val_categorical_accuracy: 0.5320\n",
      "Epoch 142/200\n",
      "1000/1000 [==============================] - 0s 396us/step - loss: 1.0857 - categorical_accuracy: 0.6379 - val_loss: 1.3490 - val_categorical_accuracy: 0.5365\n",
      "Epoch 143/200\n"
     ]
    },
    {
     "name": "stdout",
     "output_type": "stream",
     "text": [
      "1000/1000 [==============================] - 0s 392us/step - loss: 1.0826 - categorical_accuracy: 0.6349 - val_loss: 1.3521 - val_categorical_accuracy: 0.5360\n",
      "Epoch 144/200\n",
      "1000/1000 [==============================] - 0s 393us/step - loss: 1.0824 - categorical_accuracy: 0.6357 - val_loss: 1.3505 - val_categorical_accuracy: 0.5325\n",
      "Epoch 145/200\n",
      "1000/1000 [==============================] - 0s 392us/step - loss: 1.0803 - categorical_accuracy: 0.6388 - val_loss: 1.3506 - val_categorical_accuracy: 0.5335\n",
      "Epoch 146/200\n",
      "1000/1000 [==============================] - 0s 390us/step - loss: 1.0791 - categorical_accuracy: 0.6391 - val_loss: 1.3519 - val_categorical_accuracy: 0.5315\n",
      "Epoch 147/200\n",
      "1000/1000 [==============================] - 0s 389us/step - loss: 1.0774 - categorical_accuracy: 0.6368 - val_loss: 1.3498 - val_categorical_accuracy: 0.5365\n",
      "Epoch 148/200\n",
      "1000/1000 [==============================] - 0s 391us/step - loss: 1.0762 - categorical_accuracy: 0.6391 - val_loss: 1.3499 - val_categorical_accuracy: 0.5325\n",
      "Epoch 149/200\n",
      "1000/1000 [==============================] - 0s 394us/step - loss: 1.0747 - categorical_accuracy: 0.6381 - val_loss: 1.3545 - val_categorical_accuracy: 0.5240\n",
      "Epoch 150/200\n",
      "1000/1000 [==============================] - 0s 387us/step - loss: 1.0733 - categorical_accuracy: 0.6394 - val_loss: 1.3512 - val_categorical_accuracy: 0.5355\n",
      "Epoch 151/200\n",
      "1000/1000 [==============================] - 0s 409us/step - loss: 1.0711 - categorical_accuracy: 0.6402 - val_loss: 1.3560 - val_categorical_accuracy: 0.5380\n",
      "Epoch 152/200\n",
      "1000/1000 [==============================] - 0s 398us/step - loss: 1.0704 - categorical_accuracy: 0.6398 - val_loss: 1.3512 - val_categorical_accuracy: 0.5380\n",
      "Epoch 153/200\n",
      "1000/1000 [==============================] - 0s 387us/step - loss: 1.0680 - categorical_accuracy: 0.6423 - val_loss: 1.3657 - val_categorical_accuracy: 0.5290\n",
      "Epoch 154/200\n",
      "1000/1000 [==============================] - 0s 389us/step - loss: 1.0671 - categorical_accuracy: 0.6422 - val_loss: 1.3542 - val_categorical_accuracy: 0.5380\n",
      "Epoch 155/200\n",
      "1000/1000 [==============================] - 0s 388us/step - loss: 1.0658 - categorical_accuracy: 0.6414 - val_loss: 1.3553 - val_categorical_accuracy: 0.5340\n",
      "Epoch 156/200\n",
      "1000/1000 [==============================] - 0s 393us/step - loss: 1.0644 - categorical_accuracy: 0.6434 - val_loss: 1.3587 - val_categorical_accuracy: 0.5305\n",
      "Epoch 157/200\n",
      "1000/1000 [==============================] - 0s 397us/step - loss: 1.0630 - categorical_accuracy: 0.6436 - val_loss: 1.3577 - val_categorical_accuracy: 0.5335\n",
      "Epoch 158/200\n",
      "1000/1000 [==============================] - 0s 390us/step - loss: 1.0614 - categorical_accuracy: 0.6456 - val_loss: 1.3556 - val_categorical_accuracy: 0.5315\n",
      "Epoch 159/200\n",
      "1000/1000 [==============================] - 0s 395us/step - loss: 1.0602 - categorical_accuracy: 0.6433 - val_loss: 1.3552 - val_categorical_accuracy: 0.5345\n",
      "Epoch 160/200\n",
      "1000/1000 [==============================] - 0s 394us/step - loss: 1.0581 - categorical_accuracy: 0.6443 - val_loss: 1.3601 - val_categorical_accuracy: 0.5305\n",
      "Epoch 161/200\n",
      "1000/1000 [==============================] - 0s 394us/step - loss: 1.0577 - categorical_accuracy: 0.6424 - val_loss: 1.3590 - val_categorical_accuracy: 0.5295\n",
      "Epoch 162/200\n",
      "1000/1000 [==============================] - 0s 395us/step - loss: 1.0558 - categorical_accuracy: 0.6446 - val_loss: 1.3633 - val_categorical_accuracy: 0.5310\n",
      "Epoch 163/200\n",
      "1000/1000 [==============================] - 0s 393us/step - loss: 1.0553 - categorical_accuracy: 0.6444 - val_loss: 1.3557 - val_categorical_accuracy: 0.5305\n",
      "Epoch 164/200\n",
      "1000/1000 [==============================] - 0s 388us/step - loss: 1.0540 - categorical_accuracy: 0.6462 - val_loss: 1.3579 - val_categorical_accuracy: 0.5355\n",
      "Epoch 165/200\n",
      "1000/1000 [==============================] - 0s 387us/step - loss: 1.0522 - categorical_accuracy: 0.6473 - val_loss: 1.3652 - val_categorical_accuracy: 0.5315\n",
      "Epoch 166/200\n",
      "1000/1000 [==============================] - 0s 392us/step - loss: 1.0521 - categorical_accuracy: 0.6462 - val_loss: 1.3596 - val_categorical_accuracy: 0.5380\n",
      "Epoch 167/200\n",
      "1000/1000 [==============================] - 0s 391us/step - loss: 1.0505 - categorical_accuracy: 0.6473 - val_loss: 1.3589 - val_categorical_accuracy: 0.5330\n",
      "Epoch 168/200\n",
      "1000/1000 [==============================] - 0s 393us/step - loss: 1.0489 - categorical_accuracy: 0.6468 - val_loss: 1.3614 - val_categorical_accuracy: 0.5300\n",
      "Epoch 169/200\n",
      "1000/1000 [==============================] - 0s 391us/step - loss: 1.0476 - categorical_accuracy: 0.6479 - val_loss: 1.3630 - val_categorical_accuracy: 0.5315\n",
      "Epoch 170/200\n",
      "1000/1000 [==============================] - 0s 390us/step - loss: 1.0460 - categorical_accuracy: 0.6496 - val_loss: 1.3613 - val_categorical_accuracy: 0.5370\n",
      "Epoch 171/200\n",
      "1000/1000 [==============================] - 0s 393us/step - loss: 1.0457 - categorical_accuracy: 0.6500 - val_loss: 1.3605 - val_categorical_accuracy: 0.5350\n",
      "Epoch 172/200\n",
      "1000/1000 [==============================] - 0s 412us/step - loss: 1.0434 - categorical_accuracy: 0.6492 - val_loss: 1.3638 - val_categorical_accuracy: 0.5330\n",
      "Epoch 173/200\n",
      "1000/1000 [==============================] - 0s 388us/step - loss: 1.0430 - categorical_accuracy: 0.6502 - val_loss: 1.3674 - val_categorical_accuracy: 0.5335\n",
      "Epoch 174/200\n",
      "1000/1000 [==============================] - 0s 390us/step - loss: 1.0415 - categorical_accuracy: 0.6482 - val_loss: 1.3725 - val_categorical_accuracy: 0.5365\n",
      "Epoch 175/200\n",
      "1000/1000 [==============================] - 0s 391us/step - loss: 1.0404 - categorical_accuracy: 0.6502 - val_loss: 1.3687 - val_categorical_accuracy: 0.5340\n",
      "Epoch 176/200\n",
      "1000/1000 [==============================] - 0s 389us/step - loss: 1.0391 - categorical_accuracy: 0.6523 - val_loss: 1.3643 - val_categorical_accuracy: 0.5315\n",
      "Epoch 177/200\n",
      "1000/1000 [==============================] - 0s 389us/step - loss: 1.0372 - categorical_accuracy: 0.6513 - val_loss: 1.3706 - val_categorical_accuracy: 0.5360\n",
      "Epoch 178/200\n",
      "1000/1000 [==============================] - 0s 389us/step - loss: 1.0373 - categorical_accuracy: 0.6538 - val_loss: 1.3666 - val_categorical_accuracy: 0.5325\n",
      "Epoch 179/200\n",
      "1000/1000 [==============================] - 0s 391us/step - loss: 1.0356 - categorical_accuracy: 0.6499 - val_loss: 1.3654 - val_categorical_accuracy: 0.5375\n",
      "Epoch 180/200\n",
      "1000/1000 [==============================] - 0s 388us/step - loss: 1.0345 - categorical_accuracy: 0.6504 - val_loss: 1.3664 - val_categorical_accuracy: 0.5345\n",
      "Epoch 181/200\n",
      "1000/1000 [==============================] - 0s 388us/step - loss: 1.0340 - categorical_accuracy: 0.6514 - val_loss: 1.3657 - val_categorical_accuracy: 0.5365\n",
      "Epoch 182/200\n",
      "1000/1000 [==============================] - 0s 393us/step - loss: 1.0325 - categorical_accuracy: 0.6537 - val_loss: 1.3770 - val_categorical_accuracy: 0.5305\n",
      "Epoch 183/200\n",
      "1000/1000 [==============================] - 0s 388us/step - loss: 1.0315 - categorical_accuracy: 0.6529 - val_loss: 1.3698 - val_categorical_accuracy: 0.5375\n",
      "Epoch 184/200\n",
      "1000/1000 [==============================] - 0s 392us/step - loss: 1.0307 - categorical_accuracy: 0.6505 - val_loss: 1.3696 - val_categorical_accuracy: 0.5370\n",
      "Epoch 185/200\n",
      "1000/1000 [==============================] - 0s 393us/step - loss: 1.0295 - categorical_accuracy: 0.6517 - val_loss: 1.3689 - val_categorical_accuracy: 0.5345\n",
      "Epoch 186/200\n",
      "1000/1000 [==============================] - 0s 397us/step - loss: 1.0284 - categorical_accuracy: 0.6541 - val_loss: 1.3690 - val_categorical_accuracy: 0.5350\n",
      "Epoch 187/200\n",
      "1000/1000 [==============================] - 0s 397us/step - loss: 1.0273 - categorical_accuracy: 0.6552 - val_loss: 1.3681 - val_categorical_accuracy: 0.5385\n",
      "Epoch 188/200\n",
      "1000/1000 [==============================] - 0s 395us/step - loss: 1.0263 - categorical_accuracy: 0.6529 - val_loss: 1.3711 - val_categorical_accuracy: 0.5400\n",
      "Epoch 189/200\n",
      "1000/1000 [==============================] - 0s 398us/step - loss: 1.0252 - categorical_accuracy: 0.6526 - val_loss: 1.3719 - val_categorical_accuracy: 0.5330\n",
      "Epoch 190/200\n"
     ]
    },
    {
     "name": "stdout",
     "output_type": "stream",
     "text": [
      "1000/1000 [==============================] - 0s 391us/step - loss: 1.0244 - categorical_accuracy: 0.6551 - val_loss: 1.3739 - val_categorical_accuracy: 0.5340\n",
      "Epoch 191/200\n",
      "1000/1000 [==============================] - 0s 397us/step - loss: 1.0223 - categorical_accuracy: 0.6533 - val_loss: 1.3719 - val_categorical_accuracy: 0.5355\n",
      "Epoch 192/200\n",
      "1000/1000 [==============================] - 0s 399us/step - loss: 1.0221 - categorical_accuracy: 0.6553 - val_loss: 1.3735 - val_categorical_accuracy: 0.5330\n",
      "Epoch 193/200\n",
      "1000/1000 [==============================] - 0s 398us/step - loss: 1.0215 - categorical_accuracy: 0.6549 - val_loss: 1.3731 - val_categorical_accuracy: 0.5405\n",
      "Epoch 194/200\n",
      "1000/1000 [==============================] - 0s 383us/step - loss: 1.0196 - categorical_accuracy: 0.6531 - val_loss: 1.3743 - val_categorical_accuracy: 0.5325\n",
      "Epoch 195/200\n",
      "1000/1000 [==============================] - 0s 397us/step - loss: 1.0186 - categorical_accuracy: 0.6602 - val_loss: 1.3732 - val_categorical_accuracy: 0.5350\n",
      "Epoch 196/200\n",
      "1000/1000 [==============================] - 0s 391us/step - loss: 1.0178 - categorical_accuracy: 0.6575 - val_loss: 1.3776 - val_categorical_accuracy: 0.5355\n",
      "Epoch 197/200\n",
      "1000/1000 [==============================] - 0s 393us/step - loss: 1.0170 - categorical_accuracy: 0.6571 - val_loss: 1.3730 - val_categorical_accuracy: 0.5325\n",
      "Epoch 198/200\n",
      "1000/1000 [==============================] - 0s 396us/step - loss: 1.0165 - categorical_accuracy: 0.6577 - val_loss: 1.3784 - val_categorical_accuracy: 0.5325\n",
      "Epoch 199/200\n",
      "1000/1000 [==============================] - 0s 389us/step - loss: 1.0151 - categorical_accuracy: 0.6580 - val_loss: 1.3796 - val_categorical_accuracy: 0.5375\n",
      "Epoch 200/200\n",
      "1000/1000 [==============================] - 0s 390us/step - loss: 1.0139 - categorical_accuracy: 0.6596 - val_loss: 1.3768 - val_categorical_accuracy: 0.5360\n"
     ]
    }
   ],
   "source": [
    "model = keras.Sequential()\n",
    "model.compile(\n",
    "    optimizer=keras.optimizers.SGD(),  # Optimizer\n",
    "    loss=keras.losses.CategoricalCrossentropy(), # Cost or loss function\n",
    "    metrics=[keras.metrics.CategoricalAccuracy()],\n",
    ")\n",
    "model.add(keras.Input(shape=(576,)))\n",
    "model.add(layers.Dense(20, activation=\"sigmoid\"))\n",
    "model.add(layers.Dense(10, activation=\"sigmoid\"))\n",
    "history = model.fit(\n",
    "    trainFeatures,\n",
    "    training_target_vectors,\n",
    "    batch_size=10,\n",
    "    epochs=200,\n",
    "    validation_data=(testFeatures, testing_target_vectors),\n",
    ")\n"
   ]
  },
  {
   "cell_type": "code",
   "execution_count": 26,
   "id": "6a0a3c1c-fba4-4510-bf73-2d8b78f1a671",
   "metadata": {},
   "outputs": [
    {
     "name": "stdout",
     "output_type": "stream",
     "text": [
      "INFO:tensorflow:Assets written to: mymodel\\assets\n",
      "63/63 [==============================] - 0s 371us/step - loss: 1.3768 - categorical_accuracy: 0.5360\n",
      "313/313 [==============================] - 0s 346us/step - loss: 1.0061 - categorical_accuracy: 0.6635\n",
      "test accuracy =  0.5360000133514404 training accuracy =  0.6635000109672546\n"
     ]
    },
    {
     "data": {
      "text/plain": [
       "Text(0.5, 1.0, 'Accuracy on Model 4 (hog features, neural net, SGD, cross-entropy)')"
      ]
     },
     "execution_count": 26,
     "metadata": {},
     "output_type": "execute_result"
    },
    {
     "data": {
      "image/png": "[encoded data removed]",
      "text/plain": [
       "<Figure size 432x288 with 1 Axes>"
      ]
     },
     "metadata": {
      "needs_background": "light"
     },
     "output_type": "display_data"
    }
   ],
   "source": [
    "model.save('mymodel')\n",
    "model = keras.models.load_model('mymodel')\n",
    "test_accuracy4 = model.evaluate(testFeatures, testing_target_vectors)[1]\n",
    "training_accuracy4 = model.evaluate(trainFeatures, training_target_vectors)[1]\n",
    "accuracy4 = [training_accuracy4, test_accuracy4]\n",
    "print('test accuracy = ', test_accuracy4, \"training accuracy = \", training_accuracy4)\n",
    "# creating the bar plot\n",
    "plt.bar(['training', 'test'], accuracy4, color ='orange',\n",
    "        width = 0.4)\n",
    "plt.ylabel(\"Accuracy between [0,1]\")\n",
    "plt.title(\"Accuracy on Model 4 (hog features, neural net, SGD, cross-entropy)\")"
   ]
  },
  {
   "cell_type": "code",
   "execution_count": 27,
   "id": "37163988-81ba-4433-bc53-ed4157b01c82",
   "metadata": {},
   "outputs": [],
   "source": [
    "from sklearn.svm import SVC\n",
    "classifier5 = SVC(C=0.5, kernel='rbf')"
   ]
  },
  {
   "cell_type": "code",
   "execution_count": 28,
   "id": "e1ebcf60-7ec3-45d1-abc6-2bd2879a983f",
   "metadata": {},
   "outputs": [
    {
     "data": {
      "text/plain": [
       "SVC(C=0.5)"
      ]
     },
     "execution_count": 28,
     "metadata": {},
     "output_type": "execute_result"
    }
   ],
   "source": [
    "classifier5.fit(trainFeatures, y_train)"
   ]
  },
  {
   "cell_type": "code",
   "execution_count": 29,
   "id": "ab3977d6-809c-4d35-8521-76ed6102e4da",
   "metadata": {},
   "outputs": [
    {
     "name": "stdout",
     "output_type": "stream",
     "text": [
      "test accuracy: 0.563 training_accuracy: 0.7709\n"
     ]
    },
    {
     "data": {
      "text/plain": [
       "Text(0.5, 1.0, 'Accuracy on Model 5 (hog features, C=0.5, rbf kernel)')"
      ]
     },
     "execution_count": 29,
     "metadata": {},
     "output_type": "execute_result"
    },
    {
     "data": {
      "image/png": "[encoded data removed]",
      "text/plain": [
       "<Figure size 432x288 with 1 Axes>"
      ]
     },
     "metadata": {
      "needs_background": "light"
     },
     "output_type": "display_data"
    }
   ],
   "source": [
    "test_accuracy5 = classifier5.score(testFeatures, y_test)\n",
    "training_accuracy5 = classifier5.score(trainFeatures, y_train)\n",
    "accuracy5 = [training_accuracy5, test_accuracy5]\n",
    "print(\"test accuracy:\", test_accuracy5, \"training_accuracy:\", training_accuracy5)\n",
    "# creating the bar plot\n",
    "plt.bar(['training', 'test'], accuracy5, color ='purple',\n",
    "        width = 0.4)\n",
    "plt.ylabel(\"Accuracy between [0,1]\")\n",
    "plt.title(\"Accuracy on Model 5 (hog features, C=0.5, rbf kernel)\")"
   ]
  },
  {
   "cell_type": "code",
   "execution_count": 30,
   "id": "c5e6ba91-c4d5-4bce-80e2-f998fb83bcdb",
   "metadata": {},
   "outputs": [],
   "source": [
    "from sklearn.svm import SVC\n",
    "classifier6 = SVC(C=10, kernel='rbf')"
   ]
  },
  {
   "cell_type": "code",
   "execution_count": 31,
   "id": "2c858e67-22ca-445a-ba10-d558be9cbd87",
   "metadata": {},
   "outputs": [
    {
     "data": {
      "text/plain": [
       "SVC(C=10)"
      ]
     },
     "execution_count": 31,
     "metadata": {},
     "output_type": "execute_result"
    }
   ],
   "source": [
    "classifier6.fit(trainFeatures, y_train)"
   ]
  },
  {
   "cell_type": "code",
   "execution_count": 32,
   "id": "5d69db59-185c-45dc-be77-b0b69141c11d",
   "metadata": {},
   "outputs": [
    {
     "name": "stdout",
     "output_type": "stream",
     "text": [
      "test accuracy: 0.6065 training_accuracy: 1.0\n"
     ]
    },
    {
     "data": {
      "text/plain": [
       "Text(0.5, 1.0, 'Accuracy on Model 6 (hog features, C=10, rbf kernel)')"
      ]
     },
     "execution_count": 32,
     "metadata": {},
     "output_type": "execute_result"
    },
    {
     "data": {
      "image/png": "[encoded data removed]",
      "text/plain": [
       "<Figure size 432x288 with 1 Axes>"
      ]
     },
     "metadata": {
      "needs_background": "light"
     },
     "output_type": "display_data"
    }
   ],
   "source": [
    "test_accuracy6 = classifier6.score(testFeatures, y_test)\n",
    "training_accuracy6 = classifier6.score(trainFeatures, y_train)\n",
    "accuracy6 = [training_accuracy6, test_accuracy6]\n",
    "print(\"test accuracy:\", test_accuracy6, \"training_accuracy:\", training_accuracy6)\n",
    "# creating the bar plot\n",
    "plt.bar(['training', 'test'], accuracy6, color ='yellow',\n",
    "        width = 0.4)\n",
    "plt.ylabel(\"Accuracy between [0,1]\")\n",
    "plt.title(\"Accuracy on Model 6 (hog features, C=10, rbf kernel)\")"
   ]
  },
  {
   "cell_type": "code",
   "execution_count": 33,
   "id": "342315c1-8138-47e5-a8b5-91996850d2c0",
   "metadata": {},
   "outputs": [
    {
     "name": "stdout",
     "output_type": "stream",
     "text": [
      "Model: \"sequential_1\"\n",
      "_________________________________________________________________\n",
      "Layer (type)                 Output Shape              Param #   \n",
      "=================================================================\n",
      "conv2d (Conv2D)              (None, 28, 28, 15)        1140      \n",
      "_________________________________________________________________\n",
      "max_pooling2d (MaxPooling2D) (None, 14, 14, 15)        0         \n",
      "_________________________________________________________________\n",
      "conv2d_1 (Conv2D)            (None, 12, 12, 10)        1360      \n",
      "_________________________________________________________________\n",
      "max_pooling2d_1 (MaxPooling2 (None, 6, 6, 10)          0         \n",
      "_________________________________________________________________\n",
      "dropout (Dropout)            (None, 6, 6, 10)          0         \n",
      "_________________________________________________________________\n",
      "flatten (Flatten)            (None, 360)               0         \n",
      "_________________________________________________________________\n",
      "dense_2 (Dense)              (None, 10)                3610      \n",
      "=================================================================\n",
      "Total params: 6,110\n",
      "Trainable params: 6,110\n",
      "Non-trainable params: 0\n",
      "_________________________________________________________________\n"
     ]
    }
   ],
   "source": [
    "model2 = keras.Sequential()\n",
    "model2.add(keras.Input(shape=(32,32,3)))\n",
    "model2.add(layers.Conv2D(filters=15, kernel_size=(5,5), activation='sigmoid', input_shape=(32,32,3)))\n",
    "model2.add(layers.MaxPooling2D((2,2)))\n",
    "model2.add(layers.Conv2D(filters=10, kernel_size=(3,3), activation='sigmoid'))\n",
    "model2.add(layers.MaxPooling2D((2,2)))\n",
    "model2.add(layers.Dropout((0.3))) \n",
    "model2.add(layers.Flatten())\n",
    "model2.add(layers.Dense(10, activation='sigmoid'))\n",
    "model2.summary()"
   ]
  },
  {
   "cell_type": "code",
   "execution_count": 37,
   "id": "f4c420ec-028e-438a-8493-797ae242255a",
   "metadata": {},
   "outputs": [],
   "source": [
    "model2.compile(\n",
    "    optimizer=keras.optimizers.Adam(learning_rate=0.0005),  # Optimizer https://keras.io/api/optimizers/adam/\n",
    "    loss=keras.losses.CategoricalCrossentropy(), # Cost or loss function\n",
    "    metrics=[keras.metrics.CategoricalAccuracy()],\n",
    ")"
   ]
  },
  {
   "cell_type": "code",
   "execution_count": 41,
   "id": "37a2247c-044a-455a-b023-58d8668e7a80",
   "metadata": {},
   "outputs": [
    {
     "name": "stdout",
     "output_type": "stream",
     "text": [
      "Epoch 1/100\n",
      "1000/1000 [==============================] - 3s 3ms/step - loss: 1.7356 - categorical_accuracy: 0.3641 - val_loss: 1.6733 - val_categorical_accuracy: 0.3995\n",
      "Epoch 2/100\n",
      "1000/1000 [==============================] - 3s 3ms/step - loss: 1.7322 - categorical_accuracy: 0.3637 - val_loss: 1.6618 - val_categorical_accuracy: 0.3995\n",
      "Epoch 3/100\n",
      "1000/1000 [==============================] - 3s 3ms/step - loss: 1.7337 - categorical_accuracy: 0.3645 - val_loss: 1.6664 - val_categorical_accuracy: 0.3940\n",
      "Epoch 4/100\n",
      "1000/1000 [==============================] - 3s 3ms/step - loss: 1.7352 - categorical_accuracy: 0.3698 - val_loss: 1.6668 - val_categorical_accuracy: 0.3935\n",
      "Epoch 5/100\n",
      "1000/1000 [==============================] - 3s 3ms/step - loss: 1.7249 - categorical_accuracy: 0.3674 - val_loss: 1.6710 - val_categorical_accuracy: 0.3985\n",
      "Epoch 6/100\n",
      "1000/1000 [==============================] - 3s 3ms/step - loss: 1.7255 - categorical_accuracy: 0.3691 - val_loss: 1.6738 - val_categorical_accuracy: 0.3930\n",
      "Epoch 7/100\n",
      "1000/1000 [==============================] - 3s 3ms/step - loss: 1.7168 - categorical_accuracy: 0.3771 - val_loss: 1.6730 - val_categorical_accuracy: 0.3970\n",
      "Epoch 8/100\n",
      "1000/1000 [==============================] - 3s 3ms/step - loss: 1.7224 - categorical_accuracy: 0.3708 - val_loss: 1.6552 - val_categorical_accuracy: 0.4005\n",
      "Epoch 9/100\n",
      "1000/1000 [==============================] - 3s 3ms/step - loss: 1.7261 - categorical_accuracy: 0.3743 - val_loss: 1.6550 - val_categorical_accuracy: 0.4010\n",
      "Epoch 10/100\n",
      "1000/1000 [==============================] - 3s 3ms/step - loss: 1.7231 - categorical_accuracy: 0.3687 - val_loss: 1.6769 - val_categorical_accuracy: 0.3990\n",
      "Epoch 11/100\n",
      "1000/1000 [==============================] - 3s 3ms/step - loss: 1.7325 - categorical_accuracy: 0.3657 - val_loss: 1.6839 - val_categorical_accuracy: 0.3955\n",
      "Epoch 12/100\n",
      "1000/1000 [==============================] - 3s 3ms/step - loss: 1.7146 - categorical_accuracy: 0.3727 - val_loss: 1.6537 - val_categorical_accuracy: 0.4030\n",
      "Epoch 13/100\n",
      "1000/1000 [==============================] - 3s 3ms/step - loss: 1.7215 - categorical_accuracy: 0.3714 - val_loss: 1.6745 - val_categorical_accuracy: 0.4035\n",
      "Epoch 14/100\n",
      "1000/1000 [==============================] - 3s 3ms/step - loss: 1.7176 - categorical_accuracy: 0.3668 - val_loss: 1.7014 - val_categorical_accuracy: 0.3865\n",
      "Epoch 15/100\n",
      "1000/1000 [==============================] - 3s 3ms/step - loss: 1.7230 - categorical_accuracy: 0.3708 - val_loss: 1.6702 - val_categorical_accuracy: 0.3975\n",
      "Epoch 16/100\n",
      "1000/1000 [==============================] - 3s 3ms/step - loss: 1.7089 - categorical_accuracy: 0.3787 - val_loss: 1.6659 - val_categorical_accuracy: 0.4035\n",
      "Epoch 17/100\n",
      "1000/1000 [==============================] - 3s 3ms/step - loss: 1.7105 - categorical_accuracy: 0.3765 - val_loss: 1.6667 - val_categorical_accuracy: 0.3955\n",
      "Epoch 18/100\n",
      "1000/1000 [==============================] - 3s 3ms/step - loss: 1.7108 - categorical_accuracy: 0.3720 - val_loss: 1.6527 - val_categorical_accuracy: 0.3985\n",
      "Epoch 19/100\n",
      "1000/1000 [==============================] - 3s 3ms/step - loss: 1.7222 - categorical_accuracy: 0.3717 - val_loss: 1.6616 - val_categorical_accuracy: 0.4055\n",
      "Epoch 20/100\n",
      "1000/1000 [==============================] - 3s 3ms/step - loss: 1.7155 - categorical_accuracy: 0.3717 - val_loss: 1.7112 - val_categorical_accuracy: 0.3705\n",
      "Epoch 21/100\n",
      "1000/1000 [==============================] - 3s 3ms/step - loss: 1.7114 - categorical_accuracy: 0.3759 - val_loss: 1.6506 - val_categorical_accuracy: 0.4030\n",
      "Epoch 22/100\n",
      "1000/1000 [==============================] - 3s 3ms/step - loss: 1.7122 - categorical_accuracy: 0.3803 - val_loss: 1.6529 - val_categorical_accuracy: 0.4045\n",
      "Epoch 23/100\n",
      "1000/1000 [==============================] - 3s 3ms/step - loss: 1.7078 - categorical_accuracy: 0.3748 - val_loss: 1.6647 - val_categorical_accuracy: 0.4015\n",
      "Epoch 24/100\n",
      "1000/1000 [==============================] - 3s 3ms/step - loss: 1.7167 - categorical_accuracy: 0.3745 - val_loss: 1.6545 - val_categorical_accuracy: 0.4075\n",
      "Epoch 25/100\n",
      "1000/1000 [==============================] - 3s 3ms/step - loss: 1.7068 - categorical_accuracy: 0.3720 - val_loss: 1.6505 - val_categorical_accuracy: 0.4055\n",
      "Epoch 26/100\n",
      "1000/1000 [==============================] - 3s 3ms/step - loss: 1.7066 - categorical_accuracy: 0.3756 - val_loss: 1.6567 - val_categorical_accuracy: 0.4045\n",
      "Epoch 27/100\n",
      "1000/1000 [==============================] - 3s 3ms/step - loss: 1.7004 - categorical_accuracy: 0.3806 - val_loss: 1.6404 - val_categorical_accuracy: 0.4170\n",
      "Epoch 28/100\n",
      "1000/1000 [==============================] - 3s 3ms/step - loss: 1.7042 - categorical_accuracy: 0.3749 - val_loss: 1.6482 - val_categorical_accuracy: 0.4140\n",
      "Epoch 29/100\n",
      "1000/1000 [==============================] - 3s 3ms/step - loss: 1.7000 - categorical_accuracy: 0.3813 - val_loss: 1.6440 - val_categorical_accuracy: 0.4115\n",
      "Epoch 30/100\n",
      "1000/1000 [==============================] - 3s 3ms/step - loss: 1.6980 - categorical_accuracy: 0.3781 - val_loss: 1.6513 - val_categorical_accuracy: 0.4045\n",
      "Epoch 31/100\n",
      "1000/1000 [==============================] - 3s 3ms/step - loss: 1.7013 - categorical_accuracy: 0.3752 - val_loss: 1.6422 - val_categorical_accuracy: 0.4030\n",
      "Epoch 32/100\n",
      "1000/1000 [==============================] - 3s 3ms/step - loss: 1.7016 - categorical_accuracy: 0.3824 - val_loss: 1.6531 - val_categorical_accuracy: 0.4020\n",
      "Epoch 33/100\n",
      "1000/1000 [==============================] - 3s 3ms/step - loss: 1.7037 - categorical_accuracy: 0.3747 - val_loss: 1.6499 - val_categorical_accuracy: 0.4145\n",
      "Epoch 34/100\n",
      "1000/1000 [==============================] - 3s 3ms/step - loss: 1.7028 - categorical_accuracy: 0.3814 - val_loss: 1.6558 - val_categorical_accuracy: 0.4065\n",
      "Epoch 35/100\n",
      "1000/1000 [==============================] - 3s 3ms/step - loss: 1.6886 - categorical_accuracy: 0.3832 - val_loss: 1.6607 - val_categorical_accuracy: 0.4015\n",
      "Epoch 36/100\n",
      "1000/1000 [==============================] - 3s 3ms/step - loss: 1.6895 - categorical_accuracy: 0.3783 - val_loss: 1.6720 - val_categorical_accuracy: 0.3980\n",
      "Epoch 37/100\n",
      "1000/1000 [==============================] - 3s 3ms/step - loss: 1.6958 - categorical_accuracy: 0.3798 - val_loss: 1.6440 - val_categorical_accuracy: 0.4130\n",
      "Epoch 38/100\n",
      "1000/1000 [==============================] - 3s 3ms/step - loss: 1.6847 - categorical_accuracy: 0.3827 - val_loss: 1.6282 - val_categorical_accuracy: 0.4110\n",
      "Epoch 39/100\n",
      "1000/1000 [==============================] - 3s 3ms/step - loss: 1.6955 - categorical_accuracy: 0.3782 - val_loss: 1.6593 - val_categorical_accuracy: 0.3925\n",
      "Epoch 40/100\n",
      "1000/1000 [==============================] - 3s 3ms/step - loss: 1.6922 - categorical_accuracy: 0.3800 - val_loss: 1.6330 - val_categorical_accuracy: 0.4055\n",
      "Epoch 41/100\n",
      "1000/1000 [==============================] - 3s 3ms/step - loss: 1.6911 - categorical_accuracy: 0.3800 - val_loss: 1.6428 - val_categorical_accuracy: 0.4100\n",
      "Epoch 42/100\n",
      "1000/1000 [==============================] - 3s 3ms/step - loss: 1.6940 - categorical_accuracy: 0.3766 - val_loss: 1.6300 - val_categorical_accuracy: 0.4125\n",
      "Epoch 43/100\n",
      "1000/1000 [==============================] - 3s 3ms/step - loss: 1.6874 - categorical_accuracy: 0.3799 - val_loss: 1.6413 - val_categorical_accuracy: 0.4085\n",
      "Epoch 44/100\n",
      "1000/1000 [==============================] - 3s 3ms/step - loss: 1.6937 - categorical_accuracy: 0.3815 - val_loss: 1.6257 - val_categorical_accuracy: 0.4085\n",
      "Epoch 45/100\n",
      "1000/1000 [==============================] - 3s 3ms/step - loss: 1.6982 - categorical_accuracy: 0.3760 - val_loss: 1.6428 - val_categorical_accuracy: 0.4090\n",
      "Epoch 46/100\n",
      "1000/1000 [==============================] - 3s 3ms/step - loss: 1.6914 - categorical_accuracy: 0.3787 - val_loss: 1.6267 - val_categorical_accuracy: 0.4090\n",
      "Epoch 47/100\n",
      "1000/1000 [==============================] - 3s 3ms/step - loss: 1.6870 - categorical_accuracy: 0.3848 - val_loss: 1.6250 - val_categorical_accuracy: 0.4110\n",
      "Epoch 48/100\n",
      "1000/1000 [==============================] - 3s 3ms/step - loss: 1.6861 - categorical_accuracy: 0.3834 - val_loss: 1.6583 - val_categorical_accuracy: 0.3940\n",
      "Epoch 49/100\n"
     ]
    },
    {
     "name": "stdout",
     "output_type": "stream",
     "text": [
      "1000/1000 [==============================] - 3s 3ms/step - loss: 1.6867 - categorical_accuracy: 0.3798 - val_loss: 1.6422 - val_categorical_accuracy: 0.4000\n",
      "Epoch 50/100\n",
      "1000/1000 [==============================] - 3s 3ms/step - loss: 1.6839 - categorical_accuracy: 0.3818 - val_loss: 1.6386 - val_categorical_accuracy: 0.4100\n",
      "Epoch 51/100\n",
      "1000/1000 [==============================] - 3s 3ms/step - loss: 1.6864 - categorical_accuracy: 0.3788 - val_loss: 1.6311 - val_categorical_accuracy: 0.4135\n",
      "Epoch 52/100\n",
      "1000/1000 [==============================] - 3s 3ms/step - loss: 1.6755 - categorical_accuracy: 0.3917 - val_loss: 1.6272 - val_categorical_accuracy: 0.4065\n",
      "Epoch 53/100\n",
      "1000/1000 [==============================] - 3s 3ms/step - loss: 1.6791 - categorical_accuracy: 0.3872 - val_loss: 1.6506 - val_categorical_accuracy: 0.4020\n",
      "Epoch 54/100\n",
      "1000/1000 [==============================] - 3s 3ms/step - loss: 1.6794 - categorical_accuracy: 0.3849 - val_loss: 1.6176 - val_categorical_accuracy: 0.4135\n",
      "Epoch 55/100\n",
      "1000/1000 [==============================] - 3s 3ms/step - loss: 1.6733 - categorical_accuracy: 0.3848 - val_loss: 1.6395 - val_categorical_accuracy: 0.4070\n",
      "Epoch 56/100\n",
      "1000/1000 [==============================] - 3s 3ms/step - loss: 1.6819 - categorical_accuracy: 0.3823 - val_loss: 1.6248 - val_categorical_accuracy: 0.4050\n",
      "Epoch 57/100\n",
      "1000/1000 [==============================] - 3s 3ms/step - loss: 1.6812 - categorical_accuracy: 0.3843 - val_loss: 1.6236 - val_categorical_accuracy: 0.4075\n",
      "Epoch 58/100\n",
      "1000/1000 [==============================] - 3s 3ms/step - loss: 1.6838 - categorical_accuracy: 0.3863 - val_loss: 1.6378 - val_categorical_accuracy: 0.4100\n",
      "Epoch 59/100\n",
      "1000/1000 [==============================] - 3s 3ms/step - loss: 1.6809 - categorical_accuracy: 0.3811 - val_loss: 1.6881 - val_categorical_accuracy: 0.3980\n",
      "Epoch 60/100\n",
      "1000/1000 [==============================] - 3s 3ms/step - loss: 1.6753 - categorical_accuracy: 0.3855 - val_loss: 1.6250 - val_categorical_accuracy: 0.4190\n",
      "Epoch 61/100\n",
      "1000/1000 [==============================] - 3s 3ms/step - loss: 1.6799 - categorical_accuracy: 0.3842 - val_loss: 1.6239 - val_categorical_accuracy: 0.4120\n",
      "Epoch 62/100\n",
      "1000/1000 [==============================] - 3s 3ms/step - loss: 1.6794 - categorical_accuracy: 0.3791 - val_loss: 1.6384 - val_categorical_accuracy: 0.4065\n",
      "Epoch 63/100\n",
      "1000/1000 [==============================] - 3s 3ms/step - loss: 1.6793 - categorical_accuracy: 0.3853 - val_loss: 1.6503 - val_categorical_accuracy: 0.4055\n",
      "Epoch 64/100\n",
      "1000/1000 [==============================] - 3s 3ms/step - loss: 1.6778 - categorical_accuracy: 0.3809 - val_loss: 1.6139 - val_categorical_accuracy: 0.4130\n",
      "Epoch 65/100\n",
      "1000/1000 [==============================] - 3s 3ms/step - loss: 1.6723 - categorical_accuracy: 0.3909 - val_loss: 1.6405 - val_categorical_accuracy: 0.4170\n",
      "Epoch 66/100\n",
      "1000/1000 [==============================] - 3s 3ms/step - loss: 1.6731 - categorical_accuracy: 0.3851 - val_loss: 1.6156 - val_categorical_accuracy: 0.4155\n",
      "Epoch 67/100\n",
      "1000/1000 [==============================] - 3s 3ms/step - loss: 1.6685 - categorical_accuracy: 0.3942 - val_loss: 1.6113 - val_categorical_accuracy: 0.4120\n",
      "Epoch 68/100\n",
      "1000/1000 [==============================] - 3s 3ms/step - loss: 1.6679 - categorical_accuracy: 0.3829 - val_loss: 1.6290 - val_categorical_accuracy: 0.4170\n",
      "Epoch 69/100\n",
      "1000/1000 [==============================] - 3s 3ms/step - loss: 1.6648 - categorical_accuracy: 0.3864 - val_loss: 1.6055 - val_categorical_accuracy: 0.4120\n",
      "Epoch 70/100\n",
      "1000/1000 [==============================] - 3s 3ms/step - loss: 1.6745 - categorical_accuracy: 0.3872 - val_loss: 1.6193 - val_categorical_accuracy: 0.4085\n",
      "Epoch 71/100\n",
      "1000/1000 [==============================] - 3s 3ms/step - loss: 1.6723 - categorical_accuracy: 0.3871 - val_loss: 1.6241 - val_categorical_accuracy: 0.4055\n",
      "Epoch 72/100\n",
      "1000/1000 [==============================] - 3s 3ms/step - loss: 1.6689 - categorical_accuracy: 0.3847 - val_loss: 1.6100 - val_categorical_accuracy: 0.4215\n",
      "Epoch 73/100\n",
      "1000/1000 [==============================] - 3s 3ms/step - loss: 1.6687 - categorical_accuracy: 0.3883 - val_loss: 1.6266 - val_categorical_accuracy: 0.4135\n",
      "Epoch 74/100\n",
      "1000/1000 [==============================] - 3s 3ms/step - loss: 1.6653 - categorical_accuracy: 0.3934 - val_loss: 1.6069 - val_categorical_accuracy: 0.4100\n",
      "Epoch 75/100\n",
      "1000/1000 [==============================] - 3s 3ms/step - loss: 1.6711 - categorical_accuracy: 0.3912 - val_loss: 1.6138 - val_categorical_accuracy: 0.4140\n",
      "Epoch 76/100\n",
      "1000/1000 [==============================] - 3s 3ms/step - loss: 1.6609 - categorical_accuracy: 0.3923 - val_loss: 1.6194 - val_categorical_accuracy: 0.4175\n",
      "Epoch 77/100\n",
      "1000/1000 [==============================] - 3s 3ms/step - loss: 1.6643 - categorical_accuracy: 0.3930 - val_loss: 1.6243 - val_categorical_accuracy: 0.4100\n",
      "Epoch 78/100\n",
      "1000/1000 [==============================] - 3s 3ms/step - loss: 1.6665 - categorical_accuracy: 0.3867 - val_loss: 1.5992 - val_categorical_accuracy: 0.4135\n",
      "Epoch 79/100\n",
      "1000/1000 [==============================] - 3s 3ms/step - loss: 1.6613 - categorical_accuracy: 0.3863 - val_loss: 1.6013 - val_categorical_accuracy: 0.4245\n",
      "Epoch 80/100\n",
      "1000/1000 [==============================] - 3s 3ms/step - loss: 1.6652 - categorical_accuracy: 0.3818 - val_loss: 1.6419 - val_categorical_accuracy: 0.4130\n",
      "Epoch 81/100\n",
      "1000/1000 [==============================] - 3s 3ms/step - loss: 1.6510 - categorical_accuracy: 0.3932 - val_loss: 1.6093 - val_categorical_accuracy: 0.4230\n",
      "Epoch 82/100\n",
      "1000/1000 [==============================] - 3s 3ms/step - loss: 1.6698 - categorical_accuracy: 0.3894 - val_loss: 1.5999 - val_categorical_accuracy: 0.4120\n",
      "Epoch 83/100\n",
      "1000/1000 [==============================] - 3s 3ms/step - loss: 1.6545 - categorical_accuracy: 0.3885 - val_loss: 1.6143 - val_categorical_accuracy: 0.4145\n",
      "Epoch 84/100\n",
      "1000/1000 [==============================] - 3s 3ms/step - loss: 1.6687 - categorical_accuracy: 0.3858 - val_loss: 1.5972 - val_categorical_accuracy: 0.4215\n",
      "Epoch 85/100\n",
      "1000/1000 [==============================] - 3s 3ms/step - loss: 1.6642 - categorical_accuracy: 0.3917 - val_loss: 1.6333 - val_categorical_accuracy: 0.4040\n",
      "Epoch 86/100\n",
      "1000/1000 [==============================] - 3s 3ms/step - loss: 1.6666 - categorical_accuracy: 0.3848 - val_loss: 1.5968 - val_categorical_accuracy: 0.4135\n",
      "Epoch 87/100\n",
      "1000/1000 [==============================] - 3s 3ms/step - loss: 1.6584 - categorical_accuracy: 0.3855 - val_loss: 1.6044 - val_categorical_accuracy: 0.4205\n",
      "Epoch 88/100\n",
      "1000/1000 [==============================] - 3s 3ms/step - loss: 1.6647 - categorical_accuracy: 0.3877 - val_loss: 1.6183 - val_categorical_accuracy: 0.4075\n",
      "Epoch 89/100\n",
      "1000/1000 [==============================] - 3s 3ms/step - loss: 1.6574 - categorical_accuracy: 0.3919 - val_loss: 1.6103 - val_categorical_accuracy: 0.4165\n",
      "Epoch 90/100\n",
      "1000/1000 [==============================] - 3s 3ms/step - loss: 1.6606 - categorical_accuracy: 0.3950 - val_loss: 1.5941 - val_categorical_accuracy: 0.4130\n",
      "Epoch 91/100\n",
      "1000/1000 [==============================] - 3s 3ms/step - loss: 1.6456 - categorical_accuracy: 0.4030 - val_loss: 1.6013 - val_categorical_accuracy: 0.4135\n",
      "Epoch 92/100\n",
      "1000/1000 [==============================] - 3s 3ms/step - loss: 1.6530 - categorical_accuracy: 0.3918 - val_loss: 1.6295 - val_categorical_accuracy: 0.3960\n",
      "Epoch 93/100\n",
      "1000/1000 [==============================] - 3s 3ms/step - loss: 1.6523 - categorical_accuracy: 0.3923 - val_loss: 1.6060 - val_categorical_accuracy: 0.4105\n",
      "Epoch 94/100\n",
      "1000/1000 [==============================] - 3s 3ms/step - loss: 1.6596 - categorical_accuracy: 0.3902 - val_loss: 1.6092 - val_categorical_accuracy: 0.4105\n",
      "Epoch 95/100\n",
      "1000/1000 [==============================] - 3s 3ms/step - loss: 1.6554 - categorical_accuracy: 0.3893 - val_loss: 1.6239 - val_categorical_accuracy: 0.4095\n",
      "Epoch 96/100\n",
      "1000/1000 [==============================] - 3s 3ms/step - loss: 1.6548 - categorical_accuracy: 0.3946 - val_loss: 1.5941 - val_categorical_accuracy: 0.4270\n",
      "Epoch 97/100\n"
     ]
    },
    {
     "name": "stdout",
     "output_type": "stream",
     "text": [
      "1000/1000 [==============================] - 3s 3ms/step - loss: 1.6528 - categorical_accuracy: 0.3961 - val_loss: 1.6088 - val_categorical_accuracy: 0.4040\n",
      "Epoch 98/100\n",
      "1000/1000 [==============================] - 3s 3ms/step - loss: 1.6514 - categorical_accuracy: 0.3926 - val_loss: 1.5947 - val_categorical_accuracy: 0.4265\n",
      "Epoch 99/100\n",
      "1000/1000 [==============================] - 3s 3ms/step - loss: 1.6558 - categorical_accuracy: 0.3903 - val_loss: 1.6051 - val_categorical_accuracy: 0.4080\n",
      "Epoch 100/100\n",
      "1000/1000 [==============================] - 3s 3ms/step - loss: 1.6522 - categorical_accuracy: 0.4006 - val_loss: 1.5887 - val_categorical_accuracy: 0.4160\n"
     ]
    }
   ],
   "source": [
    "history = model2.fit(\n",
    "    x_train,\n",
    "    training_target_vectors,\n",
    "    batch_size=10,\n",
    "    epochs=100,\n",
    "    validation_data=(x_test, testing_target_vectors),\n",
    ")"
   ]
  },
  {
   "cell_type": "code",
   "execution_count": 42,
   "id": "b34cfb7a-ea24-4b88-85ac-da67369adee2",
   "metadata": {},
   "outputs": [
    {
     "name": "stdout",
     "output_type": "stream",
     "text": [
      "INFO:tensorflow:Assets written to: mymodel2\\assets\n",
      "63/63 [==============================] - 0s 2ms/step - loss: 1.5887 - categorical_accuracy: 0.4160\n",
      "313/313 [==============================] - 1s 2ms/step - loss: 1.5522 - categorical_accuracy: 0.4366\n",
      "test accuracy =  0.41600000858306885 training accuracy =  0.436599999666214\n"
     ]
    },
    {
     "data": {
      "text/plain": [
       "Text(0.5, 1.0, 'Accuracy on Model 7 (CNN)')"
      ]
     },
     "execution_count": 42,
     "metadata": {},
     "output_type": "execute_result"
    },
    {
     "data": {
      "image/png": "[encoded data removed]",
      "text/plain": [
       "<Figure size 432x288 with 1 Axes>"
      ]
     },
     "metadata": {
      "needs_background": "light"
     },
     "output_type": "display_data"
    }
   ],
   "source": [
    "model2.save('mymodel2')\n",
    "model2 = keras.models.load_model('mymodel2')\n",
    "test_accuracy7 = model2.evaluate(x_test, testing_target_vectors)[1]\n",
    "training_accuracy7 = model2.evaluate(x_train, training_target_vectors)[1]\n",
    "accuracy7 = [training_accuracy7, test_accuracy7]\n",
    "print('test accuracy = ', test_accuracy7, \"training accuracy = \", training_accuracy7)\n",
    "# creating the bar plot\n",
    "plt.bar(['training', 'test'], accuracy7, color ='pink',\n",
    "        width = 0.4)\n",
    "plt.ylabel(\"Accuracy between [0,1]\")\n",
    "plt.title(\"Accuracy on Model 7 (CNN)\")\n"
   ]
  },
  {
   "cell_type": "code",
   "execution_count": null,
   "id": "83a76b14",
   "metadata": {},
   "outputs": [],
   "source": []
  },
  {
   "cell_type": "code",
   "execution_count": null,
   "id": "5f286d01",
   "metadata": {},
   "outputs": [],
   "source": []
  }
 ],
 "metadata": {
  "kernelspec": {
   "display_name": "Python 3",
   "language": "python",
   "name": "python3"
  },
  "language_info": {
   "codemirror_mode": {
    "name": "ipython",
    "version": 3
   },
   "file_extension": ".py",
   "mimetype": "text/x-python",
   "name": "python",
   "nbconvert_exporter": "python",
   "pygments_lexer": "ipython3",
   "version": "3.6.13"
  }
 },
 "nbformat": 4,
 "nbformat_minor": 5
}
